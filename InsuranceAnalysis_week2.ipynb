{
  "nbformat": 4,
  "nbformat_minor": 0,
  "metadata": {
    "colab": {
      "provenance": [],
      "mount_file_id": "13p33Z_YiKmlu5w_llUbaOyAkkSVlFwyX",
      "authorship_tag": "ABX9TyPqsPN42q6IDIKFAZTv0ajo",
      "include_colab_link": true
    },
    "kernelspec": {
      "name": "python3",
      "display_name": "Python 3"
    },
    "language_info": {
      "name": "python"
    }
  },
  "cells": [
    {
      "cell_type": "markdown",
      "metadata": {
        "id": "view-in-github",
        "colab_type": "text"
      },
      "source": [
        "<a href=\"https://colab.research.google.com/github/jcastiblanco/-Fundamentos-de-IA-y-Machine-Learning/blob/main/InsuranceAnalysis_week2.ipynb\" target=\"_parent\"><img src=\"https://colab.research.google.com/assets/colab-badge.svg\" alt=\"Open In Colab\"/></a>"
      ]
    },
    {
      "cell_type": "markdown",
      "source": [
        "# ***Medical Cost Personal Datasets***\n",
        "***Insurance Forecast by using Linear Regression***\n",
        "\n",
        "About Dataset\n",
        "## **Context**\n",
        "Machine Learning with R by Brett Lantz is a book that provides an introduction to machine learning using R. As far as I can tell, Packt Publishing does not make its datasets available online unless you buy the book and create a user account which can be a problem if you are checking the book out from the library or borrowing the book from a friend. All of these datasets are in the public domain but simply needed some cleaning up and recoding to match the format in the book.\n",
        "\n",
        "## ***Columns***\n",
        "\n",
        "age: age of primary beneficiary\n",
        "\n",
        "sex: insurance contractor gender, female, male\n",
        "\n",
        "bmi: Body mass index, providing an understanding of body, weights that are relatively high or low relative to height,\n",
        "objective index of body weight (kg / m ^ 2) using the ratio of height to weight, ideally 18.5 to 24.9\n",
        "\n",
        "children: Number of children covered by health insurance / Number of dependents\n",
        "\n",
        "smoker: Smoking\n",
        "\n",
        "region: the beneficiary's residential area in the US, northeast, southeast, southwest, northwest.\n",
        "\n",
        "charges: Individual medical costs billed by health insurance\n",
        "\n",
        "## ***Acknowledgements***\n",
        "The dataset is available on GitHub here.\n",
        "\n",
        "## ***Inspiration***\n",
        "**Puede predecir el costo asociado a gastos medicos?**"
      ],
      "metadata": {
        "id": "s5G-hzuTvECZ"
      }
    },
    {
      "cell_type": "markdown",
      "source": [
        "![julydevlogo.png](data:image/png;base64,iVBORw0KGgoAAAANSUhEUgAAAj8AAACZCAYAAADAdlvtAAAAAXNSR0IArs4c6QAAAARnQU1BAACxjwv8YQUAAAAJcEhZcwAAEnQAABJ0Ad5mH3gAAFNOSURBVHhe7Z0LYBTV1cdPXpt3IEAIAUIgEAioQQUfqIiKacEgIuIbRKlIhaIoiqBUW4qCtnxFUSxan6AWREEKqAW0+EIgWAwKgUAghFcgJCRk89hkw3f/k52w2Z2dmd2d2Z3d3F+9JfuamTP3ztz/3HvuOSHnGKQTjY2NVF9vJZMpnEJCQmzvBh7cDmPB7TAW3A5jwe0wFtwOYyHaEWp7zeFwOBwOh9Mq4OKHw+FwOBxOq4KLHw6Hw+FwOK0KLn44HA6Hw+G0KkIsFsu5sLAw20ttqaoy06lTpyk1tQuFh+uzj+rqGiotLaUuXToTt0Mebod6uB3q4Xaoh9uhHm6Hergd6hHtCHvssel/CgsLp8bGc5qXY8eO0bYdP1Fat27MEH32cZTtY+v2XEpL1W8f3A71hduhvnA71Bduh/rC7VBfuB3qS7DZEWK1Ws/ptWzNYqmnmppaio+Po9BQffbBjp/q6iwUHR1F3A55uB3q4Xaoh9uhHm6Hergd6uF2qEe0g8f5UQG3w1hwO4wFt8NYcDuMBbfDWIh2cIdnDofD4XA4rQoufjgcDofD4bQquPjhcDgcDofTquDih8PhcDgcTquCix8Oh8PhcDitCi5+OBwOh8PhtCq4+OFwOBwOh9Oq4OKHw+FwOBxOq4KLHw6Hw+FwOK0KLn44HA6Hw+G0KlpNeoujFRahbD181vYO0baiKttfrrk8LY4So8KoT4dI6p0cS22iw22fBB48zLqx0NuObYfPt+89JdVUWWe1vWqib3IMJUSGUTwrfZOjbe+6D68PY8HtMBbcDmMh2hGU4mdPSQ278Z9lQqeKCZ464bU3REeEUlsmgE5WNZCVna4rusVTl7Ym6tLGRDdmtPWq4/Al/CI0Ft7aUVlrpfyTNYKw2cP+PXqmpbj3BLTprm0ihfbdt2O0IJAu7xZn+1QaXh/GgtthLLgdxkK0IyjED0Z0Nu47I4gd/Ks1juLHkQT22Y292zJRFEdDmRjCayPCL0Jj4a4dEDubCs7Qhn0VguBBu/cVEPgQQmjjl0P8M5EkwtuVseB2GAtuh7EQ7QhY8SMKnk93nfZ6ZEcJJfHjCEaGbuzdRhBE9p2Ev+EXobFQY4cv27k7QAyNvqi90MZT4sN5uzIQ3A5jwe0wFqIdASd+NhZU0Kd5p3UZ4XGFu+LHHgih8Zd3pBsz2tje8R/8IjQWruyAyFnFxM4G1sZ9ObrjKRd3jqXRF7al4f3ac584A8DtMBbcDmMh2hEQ4gfD/egM3t1+0i+dgTfiRwQjQKOz2tP4gR39Ni3GL0Jj4WgH2vineWVe++34Gvvr43om8sdfliSI/kCDXx/GgtthLILNDkOLH4ie93JP0ntM9OBvf6GF+BGB8Bl/WUe/iCB+ERoL2FFuttA3h8z0yrfHA2KURwqp6wNi/5HBKXTrRe2F14EAvz6MBbfDWASbHYYVP3gKNkqHoKX4EYHwmXpNiiCEfAW/CI0DxPwyJuzX7i6ng2V1mrUrfyB3faCdP3Nj14AQQfz6MBbcDmMRbHYYTvxgyH/m2iJDPQXrIX5E8IQ8f0SaT6YJ+EXofyB6Xv3uuODAXG89p1u78iVqrg+0c4ggOEgbFX59GAtuh7EINjsMI37QKcxcV+RTR2a16Cl+RNApzM9J03UqjF+E/gVtG21cnML1RbvyBe7YAZH/h8GdDOkTxK8PY8HtMBbBZochxI9jp+BPMjtGNwsQMQLu/tIaZss5qqizEvtHWI1z1iFarhZgvxBAej0d84vQP2AUE6OZjo7MrVH8iNx/WUf6wzUpuop9d+HXh7HgdhiLYLMjpL6+/lx4uD7LU6uqzFRyspS6detCERL7OMvEzkv/PUprfimzveM+ECWNjVYKCwtTXSFxpjDqkxxFl3WNF8ROHLsBZyZFU7yLG7ErO3D8+adqKPdwFe09WU1HK+tpH3vtCfZ2jBvYkZ68vovtE+1Qqg8tqKqqptLTp6hrly7kr3alBVrZ8foPJ+gfrEgRHnKOosJDiGkGIp20jyfXh7t4akdKgon+MrwbXZYqH0Ea8HalHm6Hergd6gk2O8KeemrmnyIi9NlJSUkJbd2+nXqlp5PjPvaX1tLsL4rof0fM7MYZ6nGJYDdeslooITpSeAKV+g7KFWlxNHZAR3p0cAo9cX1nuuWCdjSQ3XS7t4ukzuwmbGI3b1e4sgO/wW+xnWGZiXR7//b0+6s60YWdYiiljYmqLVayss5H6ngci70dBadqaedRM13TI55MYdp1WHL1oRUn2D5+3Lqdeuq4j0CwA+17xtpD9M2BSsn6RglldW6x1FFcpEm27XpT1F4f3hRP7WiwnqP/7D1DVXVW6pccLdvWebtSD7dDPdwO9QSbHSGN7NFQrydCS309VZtrKCEhjkJDzyeQx0queZuOCiMnWoCZOykbhmYk0NDebb1OOeHKDjUIAet+OU2b9lXQMQUnbkc7OjMB9erodCGarhZ4Y4darFYr1dbWUUxMtGSdaIHR7Xg/9yTN23jU9so1pogQamMKpdM1VmpstL2pA66uD63Qwo7M5Ch64abuLts6b1fq4Xaoh9uhnmCzw+c+Py9sPCIEK9QLIZjgRe2FgIL4Wwu0muuEbxNst8+2rYSWfkDBNmdrNDvcddr3xFfGiGhlB9r600O7CteuP+DXh7HgdhiLYLPDZ+LnbF0jTfmkULfotRA6iJujx41T60qHAyxiGGEETC0QQN7axi9C/UC7Rvt2x2mfix9ppg5OEa5lX8OvD2PB7TAWwWaHT8RPbWMI3fdRgS6JGfUUPSJ6Vbq7IsjbToFfhPqw6LvjtIjVo7tw8eMaXM8YBfLlajB+fRgLboexCDY7dBc/CN//4MqD9OsJbYVPfGSYIAawZFZv9K50iKCn1h5SNR2GTgGjQJ7AL0JtQb1N/uSAx6Keix954P+z9J7ePhNA/PowFtwOYxFsdugqfipq6umx1QdpS5FZ05siMqTPH9E96G6KyFb//MYjijGEPBVA/CLUDi1iU3Hxo4wvBRC/PoxFa7cDV9LHP5fS/E1HqILdZ0LZTzOSounvI3tQn47aLIJxh2CrD93EDzqFB5fvp5KzFs1uihjteXGEfkEAXeHLSsd5gwBSmgrzRAC19puJFqB+XmA3IwhVb+HiRx2+EkBGuD5+OlJFs784TAWnalhnFyKE0ZgzrBv1bB9l+4YyRrvOPbWptd+vlu44RXM3FFMDIuva0SneRO/c1Yt6MyHkS4KtPnRZr4YOYtyH+2ivhwH/pLi8Wxx9PflCQ+cG0gLc4CHwlt6bIYg9V6DzxcgDx3dgegvtWgvhw1GPeN69GWULBBASY/xHBbT3ZI0QSR6d3o9FZ+m+Dws8Dp7qbzYfqKAH2ENwMNnkC45XWujNH084CR9w4qyF3tNxxXRrQRfxgydjLZ2bkfl82b2+m/s3Ash9BLEH0ecKLoB8B242t7y9RxenfY4ywS6ATpsbhEjg1fXOgZLQ2f1lQzFZrNqPqumJ2WKlhd8cF4JYOgKbXv72uF6BzQOe/adrqbwaIdOlyTterUuKpdaE5uIHnbGWT8aY2kE26NYIxB5En9wKL5zryW4useaoB+cV5xdTkYEIxDMKHiDQjqTKrRe1F76DVC9GJpgF0PeHKulgWZ3tlTP5J2voyBnXnxsRCLpjla4Du2I0qNRcb3vFcQd4qyB7AMdzNPX5cRyJ8MYXAFM+i8ekGyL7sxHmOnHjx8oirDCSQo1fRGufQ3cXxO5BQlJX59xbtPSVwfWCNoDrBf8iKa+nQT5h75GKOtpWVMXaXTVtLKiwfSKNr32XMPW9+LZ02yvt8Of1sXxnKT293vUobgw7x4vH9KTBPRJs77jGKNf54fI6uv39vS4FTofYCPr4vj7ULTHS9k5LWvP96tuDlTR55QHJkUDQlz2o4MG4bbQ+KSCkCLb60GzkB52zVlMwuJGjYo0gfIwCOrTPJvQVVrpJEezTAr4GsXvGfVCgm/DRAogbjOhACOx4vH/TKOHgFEEceBPdHL/FtYdtocPdN+tSwQcN+/Jmu1qBlXaexFUyMhCQYVjO44Io9nmXBP+few4nWNBE/KDDRcerBaLwQWfPaQlGddAZPe1iGpALIO+B2IHoMXLnimkqCB74hGFK2BeLACCGsC/sEyIcxyDnkK83EKdq04gEApd2jaOU+AjbK2cwJdm1rfQICYfDcR9NxA9GfLTocLnwUQcCO6IDknoK5wLIc9CZwqlZrxQs3oBrAyMvEB/+CPdgD65PHANGm+CTlxLvnxEJ3HeMPDLnDl3ZtTxtSGdhessRLG3+Y3aqbNZ7DofjHl6LH3QYWj2BceGjHrlpMC6A3APnCQl3jeg4DtEDp2RxlMcI0072IN7U+omZ9MSQFErx8bGhruAHFyzcemF7eu/uDCGAHWbAwtn/XZkWT+/fk+HzmC4cTrDjlfjBzUcrPx88QXLh4x5y02BcAKlDPE/Itm80IGzX/K6v4Htj9DAPv+ndhjb9vp/QFn05HYb6Cyb/H0x/rX+wHxXMGkB7Z15KH7AHQncCHHI4HHV4JX60mu7CcD6eIDme4WoaDB3DDa//IvzLcQarEyF8jHZ+UI9wMIawNdpIjxJoixBsrhzz9QD+P0acquRwOMbFY/Gj1XQX4ou01jg+WuJqGgzi1IgdvD9pmi4p1Ey8awkeBFCPgbzSEYINwg1O2b4aBUJIgmAZ5UT8liMVFiEQII/kwuHog8fiR4ugb7gxLr6tp+0Vx1vEaTBMIdp3OqIA0jLdSKACEQinZq381LQC9YXRHjwIGH2KSy1wysYokC+CJ8LxOdBD/kP0LPjvUeq/YCcNeW0XXb1oFw34v5204udSLoLsqGtopNd/OEFXvpxHvef/JJwr1L1WQf8QmfpvrB7st488W7wOgguPghxijh1DzUooBT/Dk6E/V62oJRCDO6GTf2rtISEyrEjH2Ah6Y0wP6psS2+qChgG0WSP5h4jXR1q7SHp1dM+AFT1q6uOptUWKyXq1AKNmnvoO+vM6x93x+Y3FQifu2IfD8fnPw7rRXRd3sL0jDTJ/Iw0GAuRFsMNHfLyHrkwWpiLlYgippfhMnbD97w6epXprI3VOMNGM67vSTf0SSWrregQ5hPB5ZNVB2ljQ8uEF5t1yQXt6gT34ebMqTm77GJV95sZUSVvlqLE00LaiSvr01zO044iZyqobhP0AbLddTAT1Y2125AXt6Ld9EinGFKp7kEPs//P8M/TZL6eFPgLHJOYRwzG1YdvN6BBFwzMTKadvO2ofG+729WHfXiBMU1h7weINuLi4ew4dwZHCbeHv3xwTkqfHmsKEWSSsikxVCAkh2hH2J4btPVVgFOHxNQfZyXMWM45EsEYYFR7KlHSjk2pGnJBJgzrZXhkb6MNGVnlhYaE+vyl6SlJcBOX0a0d11nP08zGz8B4uox+LqgSnSnweqLhbH2izDy4/QJ/6oPN1B1wfD16RRH8ZniYEsQtU1NRHti3wolK0aG85eLrOY/9Bf17nSPUwb9MRyc6OHZIgJG7KbCd0jFIglcSE5fuFRKJ4zsR9F+99xzrRkqp6uiGjrVcdDpKQjvuwgHYdrxY6MtzPK+ustGHfGaED7t85tumLdkCMffzzaZcdeAzrsO7o30HoaKWQqo9//1pGb24tEWy0By/3l9YKq+IyvFgZ937uSVq646RTf4XX+eyBEpHTe7RT54AO+zGC9NS6w/RN4Vl2H64Wzpn9CBX+wvkpYvX7H3YusfCikLVhCEsIsHq779qTxIQj2rm79w2InGc+L6In/11E6/eUC/tF/2y/G/xZy44Jo6mbD1TSW9tKaCc79otSoikhMkzV9eHYXrB93Ic3MZtq6s/RNSoilcvx0ldH6aWvjwj5zXC8yHuH9DBfMEE3OD2BiTXX/ZvYrty+4+LJxNu5dQzxcz8f/cFIAs6zve8FhnTv/9f+VuMDBEdYOH0bzSEW9fHm7T3pvkuTbO8EP7hZY0pWT1DPgej8jAcUdEyuOMkEzGGZ3F7/2nmKfjnR9JBjDzqdz34po6/3ey460bkgCSl8kBzBaMEr3x5rMcKsJ+iw7cWDPTiWbV7W/beFlU4jbyK1DY30PROTSuDnOOfXL95F72w7KQgJtdSw7yK7/2OfHRT2pxU4Jgir6xb/IhybOPKkBpwPiOrblxbQ61tKVP0W05JS7QXbWplX6lV7wW+xDal6wj6xbzW4JX6gBNVMdykRCEt3gwnR9+LSrk1PZ2eZeG0NTtBoq4jW7K1Y1xr4wKA+BqY6Py0HOxBAmJqy90nTGsRsCjYa2JNtFXtwcUVucZVsp+2NKMC0FUamXHGmpoF+PVFte6Uv4tSMKzCS4U8gDJ774jA98e+DwsiPp8BNRMFU1eCYpq85KEyr4uHXUyxsOyt3ldHvVuwXRhVdgfZQIONfCpG/bneZ7ZX74LdyDwrYN45BidD6+nrCHJia8s62EtvP1IGhpYaGlicbw3n3DejgtG1PS1WVmQ4dKiJ37HC3YB9Hjhxl+2iQ/FyLorcdKfHh9PJNnWhEetNwIATBuA/2sZuWWfL7nhYj1EdxeS3d8tYer/x78FQQTo1ez007ct/AJFr9QB+hPoKhXaG4a0efpEh6/55ebgkgd+oDov6Tn9mTocS+5Yo/6wND8XLg03Psfmr/G7FU1NS38KuRuu+i45L6rZpirmugs6zYY18f6KThA+T023MYIZCzCx28xO9sRao+FE6T8Ln9NpSKY30ob1+6DlDg2zN1VSF98NOpFsJFqj68BZu3PxZX7Uo8Joz22B+TJ4h2bD9spgdXFNCpKkuLfYkFx6W0qy/3npH8vSs7xILf4LdyQOzXseOU+j2K2K5Cq6qq2Y6siqWM7XQVU33u0Nhopdq6WuFkiEwe1FFy+56W4ydK6Iet25hB6uzwpJSUnKStublkNuu3D1/Z0eXsL/TqyBSKYx0P5p/v+3A/7Tpmlvy+J8Xf9fHlnnIa9c5e2uPlMHwou7GbQuo1Ez843y+PTKMnr+3UfKzB1K7ctaNXoonm/lb91Le79bHouxOS+5Ur/qwPKxMPSqDjsf+NWOrY07z9VBDuu3WWuhb3XXRcUr9VUxrqnUUB6iMytKG5PnD8an5nDz7Ddxx/Jxap+rC3SQp8br8NpeJYH0rbd3Ueq2oa6NHVByWnF6Xqw1sc7ZRqVxZWXvr6qFdTnvbY25F3vJpmrSsS7LY/DpRo9kzTTSE+2aHyOvoaPk0Ov1W6X+E3+K0cGe2jqI0pVPL3KGK7CrFarefUOPd9yoQPjHWHqPAQYTXLKTO7ONkJ68xOyNcPX2D7VBvY8VNdnYWio6N0c1K0WOqppqaW4uPjKFSDVRNS+NqOKkujEOdmU0GFMAX5/t0ZmkTY9md9vLDpqGbLnbFVFC1m3THNBb8rx4CFwdiu3LVD7X3Fk/qYl5NGoy9qZ3uljD/rA8vZn15/2PbKGawMfJ21ISlHUQzxw7lUFPyO912AFV+zPfSzhLP1HUv3tRhdcqyPF27qJjgv2yP1O3uw2mvFuN4uV3tJ1ccDy/cLfjmugLPrO3f2sr1SxrE+lLbv6jzCn2beV0cl/ZGk6sNbsNpr6T0Zzau9pNrV8p2l9NyXxYpThWpxtANVMuXqFHp0cIrtG+dZxa7rmeuLXPpngau6x9M/7+jVYnWe3P0KTs0PrthPPxxyPYWLVY3zb0qjW2Wue7FdhTKEnSgVeMG7i/hbkUeuSWmxTS1KeHg4xcbGwBDJz7UoERHhrDKihQtQ6nMtiq/twAqL122pMXA93vdRAeWfrJX8nTvFH/WB4x71Tr6mcV5wyWohfLA8Fv49yMitZIcexejXx21Z7YVzpIQn9fHqd8cl9+mq+LM+mqSEa4RP7b7vWOyReg/Yf9/d4ohzfaj7nSNSvxGLZH3YfucKfG6/DaXiVB9Nm5HFcRu7S2rotR9OuOzoxe9pjf0xONpxtLJecPzVSvgAcV8i2PSyn04J9oufiWVIzzbUo538knOMHmE1mP3v5O5XhWV1wr7kwD6xb8ff2pfmdmX7jSyYQ/fWORZPvZ4uQeXoB55kEC8CvliB6ARt1BQV8GfBaA9f1agMzhFidGgNFmjwtBccPYG0WMxERrmMA64/WPlzKR2rdF5tpTWwe8mPJ5x8fBAX6DcKMfyq6qz0eX657ZUy63eXKToyY5/YtxpUiR8t4qOoebrj+AdMd0EAIfZSoAggrHx5Zn2RIVNUiKu5AiGAp1FApHc9VoB9muf5qhIOR4kdxVVCLCU1IPbMI4NTaNPvL6T9Tw+gA6zseuISeuP2XjQwNU6YRtICrMSCqFAz6JOWGElzh3ejrY9mCceDsuOx/m4d05ZDZyVXAyLOXLsYeSGCcye3ckwE30EcJDmwL+xTLarEj7epAODsOZp1rBzjIsYEQhyWyZ8cMLQAQpqOJ9ceplW71D81+ApxmivQEpL6G7S/xWPSba+0A1GljSaOOcEDRAZGMOSAgBjRN5E2TOpLjw7uTN3bRTZPryFo5dCMNrR8XB96684M1aMWcuw4UiX4W8mBqOGPD+nMjukCuvuSJMH/SgR+ROIxLbwlndqwa1MOLDuX8pPqwx4CL1fIUYjAhN8UKjtk4zv4rhzYF/apFkXxA+GD4WNvuLF3Ao/rEyBgtAJxWBZ9e8yQAgh+PXctLaADp/0bz8MRjFpAOPJpLs9BMleEv9cao0X25gQH1ZZG2nnUObCkPRA+91yaRNMGdxJSMMhxbXoCLbunN3WK9+7BCVO9cA52BY5p3MAkmnx1imLak5x+ifR/t/SgGIVI0hjBcdwjtgyfPkQbdwX8pHB9yh0vPsN35JynsQ/sS96aliiKnw37vF8mN7QXH/4PJJqewnsKF5FRBBCe3pGJXYuEulqDaS5MG3KfNu9BAFStR820dITncEQQTVgu6jYYnN6GHr2mk+pOGek5nv1NqqxgkANCYXeJfMDJPmwff2DCR+0xwYH4WlbkwACJ1Kq+K7rFCTbJAcfnPFsKJinwGb4jB/aBfbmD4hn2Nlw48rcM7S1/4jjGBM7QEEL+njaAADNiJnYAPykIHy3CBHCamD9C2xQYuDEHgh8bJ7A4wtoV0lG4Au4ek6/qRJFuCpnre7VpjsbvLtUWK52pkb9fY/vuJESFSLrlgnZCLkJXlNc0MPHj7LuD0a6bL0iU9R3CtKFc0mN8Jje1iG1jH0oja47I1gpuGN5OeV2dpv0qDo7v8LfvCp7aIXy8bYdaI05zvcg6aj6lqy2Y/tJ69ZcRhTMnsDleKS9+Utm9s1cHdUlQ7UHcm2vTPRswwIOqXOoHgNVpPV/Y4VZ5+JMDVC83NdXQ6DKeE5IaK03lfVNYKWSBdwTv4TM5sG3sw11kxY8WN4yru3PxE+j4o3PHRTzugwI+zdVKeXFEd9tf2oAM2RyOL0mKi3BrhMUeOO4isGWgAFnkKn5jattIwZ9JDkwhbpDQG3hPKkGqPdg29uEusmdXixgZWZ1jbH9xOOpAuzNiJnbAp7l8A0Ycca61QotRbA7HV4SENE03BQoYAcNImCuG9U2UdZqGL/O/fy1vkXgVf+M9uSX72Ca27Qmy4mfb4SrbX54BJ6Q4N+fhOK0bo2Zi59NcvgcxUbRkaxEPeMjh+INLu8RSrw7yD4z7TtWwB97zmgMPLIVltbZX0mCb2LYnuBQ/WjgIDkz17KA4rQ88lUP0eJOJXS/4NJd/0Hr0x/7GyuFwfIcax2dkY/8k73Tzknm9HJ1FZMSP/NIyNSBCJIejBHzL4NTMp7k4jozOUh+xVQlvV65yOBxpMP2ExOVyqHF8xjWKaNF6OjqLuBY/EuGq3aVPkvue7pzWxQsbjwjxe/g0F0cKrPzCyJsWYHTRaO2MYxzO1lkll2tzlEHqjt4K01pqHJ/FaNF6OjqL6Dryg2SZHI4U6Igw2vOuAQPQ8WkuY6FlPQTj6A9WFGFlkRzo2FsDcI6V8Y+VBRGEtcyC7g1YOWWMI1EGqTJ+d0UyJcfLt0GAkXTEP5Ljk12nacXPp2UdnbENb6fEXYqffC9HfrR6WuMEH8jEDuFjxMBzfJrLeHgztO2IEducLzhQWiukY/AE9AWVta5HROB7gQ7QFyARpxwHy2rphIfZzI+fraeTVdKxajzhFNuWUhZyV2DqRy6GEAInmsJcdt8+AVWOOEavjk6ncQOSbO/Kk9U5lrJS5FeAF5yqEYoc2Aa25Q0uz563w8Nd/Rwcj2M80KaQhd2Imdj5NJdxgeOzVkEPjehXpgVKIz/7T9cqpj1wxeYDFbK5l5CKoaPEUz8iAkeGuxZFWMp8SCEBpyNKK4ZOMAHzo4er+tbvLnNLrKQkmGRj8RRXWGg/E53ugnOtlOwT9ygkRXUE7ycpJEdFDiwxg7s7JW96f9r0UF/aO/MS4XXBrAH05UMXuPVwggCOSHKulFNMDvwW28C2vEGy5rS4QfRN5vF9OOfBE/e4D/cJoz5Gg09zGR8k3NUCb0e0jUqGgijAqhlE9q1rcG/0BxnCkblcDjw4dJcYkWkTFc46YteiDCMbXyps25G0dpGy8WIwdfXm1hI6bXZvxAUjLVhp5A54wJcTP56e86/3V9BPR+QTprrKXt4mOlzwv5Hju8JKwV53wQPri18fo0v/nidEfe6/YKcQhNY+No8aEL26B6tHT8FvPY2AbY/rmuNwNAKCB8KHT3NxPAWOz1qAG7jRRh21IJO1X6XM298WVtBf/3tUtS9JSVU9/enLYqpQOF8QJMkSq3gwMtFTIb3D1wcq3Bod6dcxRnFVETr2p9cXqRYdEEpP/PuQYK87YLVRNwWHW5zzl787ofqcI9bNnP8UC8u+XYGRj34uBhcwFqKUFwx2/pntwx2BiO8++PEB+k9BBZlt/mMQd29vK2H39gK3Rszax4bTb7x4mMFvsQ1vkbxaWuu8OEdb+DQXRysgTrXKM7fnpPeLOYzGRZ1iFP1h4ECKXHl//Pyw4tP6T0eq6O6le1VNld3Qq63LKYhreiTITnGUnK2nv359VLVQUdtxIp3J+I8KFAUNhNKdKu10BOLuqu7yohzn/MOfTtHCb08onnMs7R7LHhKVVjl1io+gy2TCyFzdPUHRqRizO/d8sFfVCFDecTPd/n6+y1HTXezzT2USk0qR068dtYtxX8DgN/itFkiKn7NB+GTE8S18moujNZdrNPoTjGDFF7J1K4HO+KP/naIbXv+VXv72GB0qq2selYBD9Cb2ZH8/Ew0QBEUq/HHQGQ2WWb6MThqdtRxf7T/j1oiU2o5ze3EVDX39F3pmfZEgbjAlBiC0MJ03dVUh3fpuvuAk7SnXsXPeRuHhCbtdu6ecspfscXnOcb5/t7xA1WjMYCYo4W/kCjVOxQAjbiPe2i3UN47BfvQGf4tt4TZ2juTaAuzbcsg9V5n09lEeLYrCb/BbLQg5x7D93cxTa4tkU8yrYem9GXRZ11iqr7eSyRROIUhWEqA0NjZyO9wAT5dIU6HXaA/m2duyG87Jqgayusqm5wJMcz1zY1dDjPbwduUeENIYRfSWqdek0FSJ1Bn+rI/lO0uFqRpXYEpr8ZieQsfniiMVFrp32V46Xd3g8fXhLvdf1pH+mJ1qeyXNAiZs4PsiBwaHIGqeH96tOWKvXH38ZUOxX8JkONqLs/vo6kJat9u175I39ytHILTevKMXDegqvwDgy71n6PHPDspOn7mLnB2IufPOXRm2V+qAxniKXc+iKFUCI4gv5qR5vcRdbFehDQ3OSvOU2SIY6k0JZY21urqGjhw9Rg1W/UaSqqqq6VBREUnZoRXcDnVgxHDKxwX00qbDZGEXnVS70KKEh5wTbDBFhEh+LlWSYiPorzd3Vz3NxduVenxlR3hdGUWFq69zV8XVsmx/1gdu7FLHKpYoVnBPlQMOuBOv7ESY8bC6eX24WyLDQqhrXAiNH6DcEd11aRL1Yk/rUtsRC5ZuI9J79j9+FR6e0CHK1ceUq1KEEQ6pbblTYEdESKPqdoUVbPbg1dSrUyitbaTk91Fwv9KqPsb070CXSggfx3aFUcChGW0kt+FpkbPDk2wOQ9LbCCM59tuRqw98F7/xFrFdhT311Mw/RUS0HEL8quAMVdRYhSWMnpbh/RIppLqctm7fTr3S08lxH1pxoqSEfty6nXrquI8Stg9uhzwYQsUTUAHmha0WSohuuhlItQ1vSyi7CC2WOoqLbFptIfUd+3JBpxhaMLI7DVKYn7eHtyv1+MqOg7/8RLvqOnjdrvokR0sunfdnfRw4XUM7iqskjxcFPmpY8dZFIXBsZlIU7TlSTkXlNRQbGaHbNQh/0xvjj9HQ/j0UzxWOHeLmlxPVQucmtT2xQN/B3wj3k96xdZS7Q7o+YBd8nH46aiboEaltqSkR7F4S0lhP8dHq7iX9O8c4Od9jCi6ePVD9crxa8H1y/E0Y20d9vcXr+rgoJZaeGdpV2IYjju0K5+SC5Bhheg9CUmp77hZXdmD11WNDulCcxNJ7ObCNqroGwe9I3JZcfdzevz1dLTPyqRbxOg9pbGw85zikeN+H+2j7YfmldkpMuaYTPXRFB6o211BCQhyFhrp3YtQCJVpbW0cxMdHswmlph1ZY6uu5HTK8n3uS5m08anuF6KSsAetkA8CTRxt2oZ1mAr1RYVR31EXtaBa7Ybg7zcXblXp8acfN7x+k4xWeBbETuaxbLL1/T2/bq/P4sz5W/FxKs9cftr1yBh3Ba7elCw7ESpyorKEn1xyi7UdrFK8PT8DI2YQrkuj3l7WjWJXtCn4201YfFPxI1IB9/O3mbnRV5wjZ+lj20yl6YcMRryIzu3O/uu+yJJp9o/M0H/b+wqZiWrr9lOADY4879ytXYDXdW3f2pN5J0n4yrtrVNwcq6NHPDjWv0PIGKTtimbB9+ZbudG1Pz0Zk4EQNx/Ty6vMjoVL1kcgE5nt3Z3jkJ+SIeJ2HSlU6Kg9zet4U9h+Fh4VRdLR+N10QxvYRGxuj6z64HdLApwd5ueaym4993eO6sH+tdcGdBjbgApT6HAUrMZ6/qRvNy/FsNRdvV+rxpR2dEyIk69ud4qqf9Gd9sMOSPFaxNLLi4rCd6BgXSXOGdROmmqS25U3B/8YNTKLp13WlODfaFUZ+5g5PE+LTSG3XsdRZG+nn49WK9XHvpUk044Yu7Due33PcuV+x/yTBET4xpIvgAI1zZP8bVBxskLtfyZW4yKZ7mSvhA1y1K4iSl0f1ELYhtW13iqMd0ewe+7ebPRc+AO0BU2b2+5GqD3zHVWwjdxGvc30ebzhBD1ZzIUUF5umNBp4O1vyuL1/NFYRoFe8n2Okcb6J32ZOylucLAgbOvjOHdhU6e3fBMvXFt6Vr1okBHAeckOcO76YY50hvcH4gNO6+JElw4NYC5Md8684MxYSgcuC32IaWuTaxrXfvyhD8irwBpwkRpzGt5Qp8hu9odEqb4eKH4zZwSITwQXJSozGe3QghfLSKCcPhBCrtY8Jp6T0Z9PiQzkLH7A1YXvyvcb3pvoEdveqEkIX7o7F9aEjPNrICAR3eIDeE2+39O9DK8ZlCrilPwfGEyYwyqQHn+c/DutHCW9K9CsSHYxmemUifTehLl3TxLocVwDawLWzTG2GG3/42s41mxwWu6BYnO6qFz/AdrdFN/ARrDp3WjDjNhZDmRgNOlXiqxDJ2DofTBFaRTbk6hb5++EK69cL2ks6ycuAJH6MqX0zsR1kp2nR2WK791p292LWa2rys3RH4Nl2R5l6HhxGl9Q/2E47XnVEOdOgXdooRRjKUoiOrAdoip18ibZh0IU0a1EkyB5crxGNZPq6PkDDUk0CArsC2sE1sG3XpjgiCD9bgHvH0D/b7V0Zpe1xoA9OuTSGpwIx4D5+5aifeoFucH0RkXXV/H7/FzdASf8b/0BJv7MA01+RPDhhitAc3cPt4E5jmen1Mz4Ab7eHtyn0WfXtciCHlDVjphSCXjvizPt78sYTmf+X6oQI3/zdu70lXpimPhsjZAcfjjfsq6Mu95cJKqbLqhuboyugM8RDRpU2kELkYySN7s2tLzzOB1BlLtpygj38uFY4Fnd0IJhyexqqm8BDF+kCQwFJzvSAwOtjltEKnhsjDa34to28LK+lYpaU5q729ncMy29LIC9oJI1II7Df2g320RybqsZq4Ro7UWBpoW1ElffrrGdpxxPU5tz8WX4CAiuv2lAm52wpKa6mC2S/6w0HsQODg3opj+m2fRIpiekfP6wORpJ/7oph+OdG02CojKZrmDusmubTfG8TrQ1L8aHGDAflPXey3m4mWtPZOCtNcRhrtsRc/YwcmBexoT2tvV54AHzOMPnqDEcXPjLWHZBNromP/+L4+1E0hhQVoDe0KaSueWHNQyOAudthY+g6naqWUE65ApOe7l+6jU0xMueKRwSn06ODOtlfq4Ne5sRDt0NXnZ+8pniMskDHyNFcMexJedGsPPs3VykA8lWADT+A/H5MPLYKncJ6DrgmM0Dy0Yj/9cOi88AFIwfDwJweE9z0B2dRPV7sWPphC7NFOm9QKHP8jKX60mj44VulellyOcTDyai44wC0ZnUZDe3sf7ZPD8TffFFbQwTL5PFrI5dQmWjs/i0AGCUBdTU0h0/ir3x9vnlZSC1KDYITbVRgEgOkpTMVwggNp8dNWG/GTW1xl+4sTSBh9NdfycRlC0C9O6+PoGe/bZN9k5aSPvgKjPm9uLVHMbzQoLV5X35tAAqNkcudr++GzbiVKhd8Rkp9CAMnRrW0kK/y+EyzoOu21o9i7KNEc38JXc3GMjhaCPIG1JSOA0QkkM0V4fzmQsf0aL+K8BBudFB58oIvwAIcFGnAuluPA6VrByfm7g5W2d1xzTY94XVYdcfyDpPjRKjAWfH6qLPolCeRoRyAELURuIw7HW4zgNwThM+c/xfTVfuXrrV9yNPVsz31NRAYzIai01BoC6D97z9B1i3+hP7PzvLukunm0COceOa+mriqkm9/aI3ymBPaHrPOc4MHlyA+etLXgh0N86svoYGUfD1rIaS0gDIe/QPeLGGgjWKf7r52lsj4mAMH+Hrg8WUiYyWkC8XyGZqh7EDKzh2/kHoTI6T3/J+r5wg7q99L/6I7399L6PeWqfYOw3FuLvFIc4+BS/Gh1g/j5mLKq5vgHTHON+6BACG1gNPg0F0eKPSqe0o0K/HvGfbhPmGYpPF1re1cejHKoSWbamoAMfOjKZE3TNciB6NYPXdnJ9ooTLLgUP1pNff1QxEd+jAiePm94/RdDRuJGHJavJ1/Ip7k4TlRqkJ3aH/nBLNZz9MznRbTFYXm2HPBtQWoKPurjjCBIBnUSgvHpCYIuzmYPYMnx5wMocoID3Ud+MOy4aV+F7RXHCLz2/QlhxAcjP0Zj6jUpQgA6HtOEI0W+gnOwElpN57sLHjK+V+FUK4JO/fdXdZLNedTaGTsgScgwr5f+QR08cV0XIQ8ZJ/iQET/aLQdd9Yt3qTI42nCWPTU/se4wvfbdCds7xgGd0tJ7M2jq4BTbOxyOM94Kdn/5+xyrsFB1vTr/EnTmSKOAzp3jGmieJ5k4uaN/B80FEIQPptZ4HQQvLsUPHEy1cjL9qqDSkKMMrQk8eea8mU95BvTBujGjjTDN5Y/pCE7goMUUrb/aGDpTNR20MOIzqBPNHNqVx/VRAbKozxnWjSZeqd0UGLYJX8PHmbDidRC8uBQ/4HINbxSIu8DxD1jNhWmuswYMO/A0u8ksHtOTT3NxFEE4Bm/x18gP/NiU4tMghsxfhnfjna6bIO3EjOu70Edjewu+QN6A3/9rXG+6b2BHXgdBjqz40fJG8V7uST7642OMvJoLo4qfTegrDO9zOGrYVuT9yI+/ojsjU/dtWe0lR3/w3sDUOFr1QKYwhcM7Xc9A9u8vJvajZ7NTKTnOPQdlfB+/w++zUmJt73KCGcms7iKI+3L94l9sr9zHPvu2le0GzqyB6NMRiNlsMUUw5ZPCFoLTsT78Baa55o/o7vFoD8+SbCx8ZcfAv//s1QMU/Mp2PN7f9soZve3AFYcR8Ne+Py5EHoboubBTLM0c2kUYZddqj7xdNZ3rXcfNtObXMvq2sJKOVVqo2nLe5wptASu4EEoAMXwuYoJHrzPF68NYiHbIih8w8q09Hq+wcOxsxaf9QJviCLRKxzSX1GiPv8UPbjiYSx/NnoC9gd9MjIUv7BAjkHsDRDemWF3B68NYcDuMRbDZITvtBa5I087vByNJ3PdHP/BUjNxcRpzmQnRULGH3Vvi4A86HEdN1cNxHi3rkcaM4HI5IiMViORcW5nokZtvhKrrvo/22V+4RGRZCCaYQKqs91zzSgKSCqx7oo9lKsurqGiotLaUuXTqTnB3eUFVlplOnTlNqahcKD9dnH97asedkDf3h04OyKSqk6kNroKZDqZGgq8U9jLqwHT19YxfNEkq6Ux8Iivfqdydo/MAkt9ocb1fq8YUdo97eQ/tP1bRoV+6y6ff9ZNsArw/1cDvUw+1Qjy/tCHvssel/CgsLp8bGc5IlJT6CPvu1nM7WqYtRYQ86QbJaiMmr5htWnfUcHTlTR7/JSJDcn7vl6LFjtHV7LqWldmMny7Ud3pRjbB/bdvxEad3024c3dryfe4qmrj4kxPGRQ6o+tCaM7cMUUs86qXCKZWLnrznd6HeXJVFECIYbpY/f3eJOfWC/WZ2iafq/iyg2IpTS2pokv+dYeLtSX/S2A/eLV7873tyuPGm7fZKi6IGBHSS3LxZeH+oLt0N94XaoL760I8RqtZ5Tmr97fuMRoYN1l6jwEMHH5JTZ6jTSsPSeDGH5p7ew46e6OgtFR0eRXvOQFks91dTUUnx8HIVqFEvCEU/swLTOrPVFtFFlBG25+tAKHDlK747RQm4urUb47PGkPnCuxn1YIEzj/uHqTop+Z625XbmL3nbAh+21704I7cr9R7Amnh7aRUiSKwevD/VwO9TD7VCPL+1QdHgGnq76knOwRefz1cMXBoTzsxEdveAAOvmTA25lYveVwzM6GT0TknpaHxBASCqJn8zP6e63mC8i3BFSHbj3uNPOpUAQTSUhzuvDWHA7jEWw2aHo8Axw09BilMYedERYis1xHziNY+WLtx2C1mA1l5EzsUNor/ldX8rsGCOcP+58b3wQssHbdg5nez1GIDkcTuCiSvwAPYLR4cb2Lu+AVAPBiNVcmIY0GoGUif3FEWl060XthfOI84nzyjEmr37rfR46HkiTw+E4olr8oFPT4+npBdYB8eXIyohxTox4rgIxE7sogHA+b3j9F03yRnG0BSM+WtQLX+LO4XAcUS1+wGjWWejBzHVFmuTtCVaMPM0VyJnYRQEkOEMjDch3xouP1Jp5RYN4VajfQBLlHA7HN7glfuDIig5Pa5qmcw7w6QcHAmGaK9AzsYsCCCA4pBFFZmsEdbBq12nbK8/hU14cDkcKt8QPnqD0upngZjfuw31cANnASBjOhxGnuZCJPdCmueSwF0BGnl5sTWgx6gNHZ3+v6ONwOMbELfED9Br9AWKH39oF0Kd5p4XzYLSpQPh8BWsmdnsBJI64YTqWi3HfAz+f1jzqY961jhY8M5Fmv7qBCs22N4MRq5mKv1lGcx6fSHePGUkjRzaVMY8vo/xAtruykDa8OpumzX2bNuw3mCGlubRs7jSa+Mwi74/NWk65H8yhaZNm06KNhRRoVRb2J4btb1VEhocKBZlylYgIC6Eo9l2zpVF1VNZScwN9e7CScvq2E/ZjBBAKCZEhw8JCdY1vgI72uS+LBd+Tugbt4/B4Uh8iSAr51p0Z1LWt/5cM61Uf2b3b0pEKS3MiX4hPtMWLO8dRUlyE8J6W+Kpd6Y3WdiAEBu4D3gCh/uKI7rZX6jBEfRxZTY9N/yflnTRTyYFt9NWhzpR9XXdyZ/wqENqVeT8TeDNm0ZKNv9KxMjPV2z1jWMt+pc1l3emWK7tSSMBdH8W0+olHaMlPJVR+NJ+2fX2MUoddQ13CjWBHIS37wyxaUVBO5pOF7NiKqHP2EOqusnE5tqvCj35Ps5YXUnlVCRVu/YqKOmXTkB7GH2kV7fBIXeCJSs+4GeIIkNFGPvREtBmjPkYCo3yY5kI27NbgOGo/AgTEeuExgXwDQl9ocd0bNdaUIqUlrPs8j2VHfovXwYB55xKaNnMJbSm1vSGB5VgZBeTEc2ke/VBk+xtYttDeg7a//c3JPZRnf84tuZRvf6xuUUJ7dpbb/gYWys0PrJbq8dCK3jeX1iSAjDrNJWZib21Oo44CCCNyPCaQ/sDvDzm8vAXO+Hx5u0E5vo7+PHcdlSisKTB1bkcBWYOe5l/h+ByPxQ9uLlpHfXYEHU0wR+KFffArMaJvCTp/CJ/W6jDqKIAAnKDRHluDIPcHM9dqcx0EauiFoMdaTCteWEL5SsKn1x0096FBxGNyc/TEK6cazKnr5fxsTzA+dYsjW0ac5kKKCnT+rT0+ipQAwuhEMAtyf4EwA1oENER9BXr4hWDFsm0FrXCcZjElU/YjC+m9lWtozZqmsvL/xlJmrO1zDkcnvBI/8Pvx1VOWGIk30JcgQ8DBodmIIwiY5kLuKz5lcB4pAQT4NJh24JrWIsAkhHvA+voEPWba8p/N1GLQx5RJExa+SVNvTKdEPszD8TFeiR8AfxC9p79E0NGgw0EJxEB0eLKF6MFTrtFAigoIHz0d2QMVCCA4fTsiToPx1BiegwcATPtqAYRPqxutFJaLrxCWxovLxe+8cxw9NX8RvbtuF5W40ubWEtr8tyk0ZuQYunvqIlnn42Y8+Y2IdQ/l7bD9bSN2+AQa5a5WtZZTodPy+DE0Hsut1+Yp+hJJUllMm1cuoNmTxjPbjL/k3nI8j9a9Opsmjh9z/ljHTqRpc5fR5kJ7J+TAwrx7Gc0Yy2y6Ywot+LrE9q4CxzfTgsnsN2Puphkf5JHZjWfRkHNY9+UlECIj39pDZ+ta7jk6IpTaspvRyaoGsnq/mxbgJoeYQ+MHdtT9hudtKv+muCVlfp/ikqoPYZprTHpATRV4Wx+egvpz1VFjBBQC0h38ZYfWeGoHHma0cvRHKAasSPQGn9QHOtr/rKANG/Io/3h500hIVCKlZw2h7BE5lEOraeSz64SvNpFDc9dMoizbK3uwXPyV+e/QlpMte/zIyEiKj4+nsrIyajR1pzv++DyNvajlPFL5xtk0/pU82yvGxVPpvTnZlGh7KYXTbwZMp4+eG0KqZqhOrqMZDy6hfNtLkDNnDU262PZCAsf6MO9aRs/8ZQUV1tq+IIUpmQbdP4seGZGu4rjMVLj2FZr37haXosl0/Sz68LFB6v2PJOwc+acPKbt6E638cj3l7jlOZuzLFEvJfQZS9m/voJyrUylWTRdmLaYNf5tDS74vaTmC5oCp1yia+fQEGtjB9oaIVB08t5JGWVfTss82UO7ekqZjY9Ym9sqiITeMopzfZFGyzfiW9XGS1j05kZbsbfpMYPiztHIU0eoPVtOGnflUUtl0lKbEdMq6NptG3ZRNWSkuzmTtFlowdh5tbjYslSYsfk1BHBfT6qlT6O3mW7KJBj3xHs26Vr7mRTu8HvkBGC3w9XCzMH307XFhKgxD5kacfoDoQc4oFKP59oBgSVHhK0Zntaf5OWm2Vy1BW0Q982kw9WglfCDg57sZ08f3oKOdRxMnsKfa9zdTnih8QG05FW5bTUuenUhjXthge1Oe5uXiDsLHidpCWvHMZJrn8CRdXGjfBTJ2rqbNsll0mGj7zE74gKJiUvl87jUlnzPh9YyC8AGWEtryxjSa/HqeQtA9M+W9PpmmveFa+AAsufd2LOXrBZPoz29/Rt/uEsUFw2Kmkl2badnfptD4SfNog1IGI3MeLZn0GC1SED7Asn81zfn9DFqnYoJhw7x7aCJGjOyPje2hfH8urX5jNk28ZyLN26hyCfum+XTPpDm07Ju8ZuEDLOWFlPvZEpo9ie3rxQ1ULHWLrCxzqAfWthRHFsuppMWzKDvuyirb38poIn4AOgaMxPgaexGEp3Ij+NFsLKhoFj1GnRIJthQVvkJOAKGueYZ4dWh5rRrfOV9dRwsstUpdG6N8My1QsVz8POW05e8z6G27p/TMixxHM4pp3fcyndzuDbTcYdAz9uqBlG77W0/MP79BM5iYUW0uo5yJpRnLXduT/+5kmv25sqzBknu50TA1WCzyR245uYUWTZtBK1xFXLaW0Lq/zKF1SkLXHks+LZm6gLYoTNspHZsgJl95jKa9m0/VtrdcwralYCmVfL+IHpv+tiGmEzUTPwCjP77y/3EEIgijK/DBuH7xL/TCxiM+FUIQPLihD/z7zzR55QHDdoDJ8eH0yf19Wl3sHi2RE0BohxC9WjjwBiPi+dFqJBTO6EZ30C9Z+2eao6KjVYeZtry1iHLdUQIC5bT61dXNARNNl+fQTQm2FzZK/r2B8iUHLi205cv1DiMpqXTnbzNtf+tI9U+05IXPPRp9Kf5gdgvB18zet2nepyqEjy+X3DOxsmzmn5nAsb22o3jlHFqy2+0KZ9tkIvlvm70euUL9F346m174QpsVrpbC1TT7L0y8+3mQXFPxAxbf1tPvTrPwQUKkWFEIQZQgV5CWUxIQVtimveDBDV3LfWjNiH6J9ProHjzZowbICSDAp8GcEYTPh/s0ezDA6kSM+hiaI6tpzhv5bo1ayHLyv7TqG8etJdKg++fSm7bl4ss/XEJPT7iO0h1vw0XLacNu299hmZQ9OtX2wkblelq3TeJIa3fQD187vJ+WTQN84Olw4vs19K3jIQl+PXPptRW25fGr3qOFT4yi9Cjb582U0/r1WxzOvZk2f7reWRCY0inniYX03io/LrlnAuid1x3ESu0WWvGx8wgW/HqmL3yPVtqOd+WSuTTh6mQnoWbZsUJhOlMtFir44G3arpzVShWW3e/Qkm+8l2XeoLn4wfAzBJAv4v+oAUIIouSptU0iBQWdEkaGEKtl2+Gq5mLfUUHciO/vOGKmpT+V0ryvjgq/7T3vJ0FYYZtGFzxA8IlgHfVfhqVSnIlPc2kFBBBiIrlq63wa7Dy4DrWMYo4HLEzbGp28fy9rHm1pJiqdRs1+rbnjWrPiNZp7/6Bmx1I5yndsbuGwyrpBynzoJZo1+rxjKoW1pdTL7qY5Tw93mLIx04Zt53+dev0oB0dqC23+3HmkoPy7dbTZ9rdI1i1DyEE66cBR+p/TythEypm9ULA3VRQ7YYmUfu0EWvjyJMp0OIeWrzfQFvsOuzKXNm9xUFOmTJq0aCFNujadEvW6PYa3pysfnHc+ntHKN4U6d5xSs+z4B60SBSrDsuMHOyfgJkz9JtFrf51AQ9ITSbydm1KyaNRTC+nZ4Y5bLKblGx38uxwRhV/zsUFM5jiLZ8v/aP1WpRFtE6WPmE4L31vZtK1VK+m9hdMpx3ljlPvpZudrw4doLn4ARhZwYzJiRwuhgs4II0OI1TL2g33NBcIIwkYUN+L7D644QEt3lNLS7acCriMTY/ego+ZoD6Zc0NZdCSBhtKOVT4NB8OB60kr44FzjAcv4/mp5tGWTQ8/VIYee/edCmnB5anPHRVGplDV6Fi2cnaPoX1J8yKEjS7iJJgxPtr1oSWz/W+iOPrYXNsz5B86Lm8SrKHuA7W8RJ8dnCUdn0xDKucZbTxgVnD1Ehadsf9uIvWUWTbrYxXBMSg7N+r3juri8lvmrivLZOy3JvJ91zrqGq2tLQybPpqdyMs/HMzIlC3W+eI5jnZtp/ebzR1hYkGv7SySLJj2VQ8mSTT+Wsh6aRaMcpjNb1Lkj9sKv+dggJifRwkXOYvLEt/8j1wNJEOKv0cKHhlC6uLEwEyWmD6FJC16jSf0cNla0jrZIL571CaENDd5lT3YFBNCrIztTREgjmSJChGXWepTIsBBhH1Hh+u0jPOQcNVitAWfHg1cmt4jdU11dQ0eOHhNs0Yuqqmo6VFREerUrYDQ70NY/HNubkmIjJOsB5Z8/ltDvlu+nY3arIFpDfXyw4xTdtXQv1VvPSZ4XtcX++sC51mPqVvP6OHWMDodECkvPxZJ1+0jqUC5dH7EXT6JnbmvX4vuRkeF2T6gWqrHYf8ZK3ef0x7tup9tvP1/uueceeuihiXTHnY/Qu4ccvm+utfPdiaVBw25kYtL+Oydp8w677i3/a1p9wv7zSGp38810UYOb7SokjCLstoESrvDoXV1+hk5bGynCZGr+zbWXyvsZJfa/hi6y20dkZAjVVZ2/5szlZRRi93lERAb1S6nV7vqQsDNu2B/omoQzku0q9uIHaHJ2fIvvh2zfSftsnzfUN7T4LDLzCuovoTubr/NzvejyIXbfRxHrXOLYeo57xLXwY2LykXE9m78bFhZG1hNFVGKBHSEUFtFyW5EZ4+mREdJCnMKSKWfqeOpp//1IVr9lts9txxYRYRL2Y2J1rtQ+MHYT3mJ77PfsPqGEeJ2H1tVZhBTvepT2odU0LKGYUuLChfgyepQEUwhFhTRIfqZVwQ3XYqmjNqamODl6FC3t6JJgoldv7UFPXte5RX0g7sf2Hblk0bHOT5edph+35pKe7cqIdvROiqJ37+4lnHupOkHZf6qGJjIB9PHOUuE3wVwfZ2sb6Jn1RfTGlhOS58LdIl4fc7I7C+fafv9aFc3rIySCYuLjhZg7TeUC1tE2yNZHx24Zdt9HiaTQ5s8rqOqs/WfSJTIyiiz1FoqLjXX+3FxDlXb7ixhwE41Mafmdik3f0/6Gps93b/ueQu0+i49PpuHXZLjfrpzORTxte2cGzZhpK3MW0qd5Z1r8pqyijsod7TDZbVOqSOznrLmi+fNqS2OLz2JjY+hYnobXh8T+L0lrJ9OuIuiSK4e0+H4869QbbJ+HRtq9j5IQg+B8DttoeZ07/Uasc4ljG9Cri9O27EuXXgOav9vUrvbRqZOwgz2MxLTcVnz/ntRFYhvNpXNPGmD/fVbKTp9q+sx2bLGsrk1MxOCzyDCH3zsV9lBkty2UmIgQie+1LOJ1HhoTE00IIKVH6ZTSiR68+Vr6v1E9qLr+nBBcT+tSVnuOzI0mOmW2Sn6uRWH/UXRUNJ2u0W8fWtmR1i6S/nVfHxrcs41kfQzLzqbo6Cinz7QqXbt0pptzhpPe7cqIdmQkRdOCW+TbeuHpOnr2i2K6/6P9VBmeGJT18VVBBQ39x27WmZVJngNPCq6PJ4em0S39OzrtX6uiebtqrKOz7EaLm21TqaU2yfL10bZdkt33UarJ2vx5I9Wdtf9MulTXVFMU60AqKiqcP6+y3x4r4b3oqutjW37n8Ce0JreeQuq20hdrS1p+Fp9NV/X0oF05nYsyKjm4j/bl28pP/6X3n/0jrTl6/jedkmIo2cGO6ga7bUoVif2crWts/ryx7myLzyorLdTveg2vD4n9R7eTb1cmE7X4vn2dW6vt32flbB012v1WLPb14fQbcXsSx6Z4Phuqz39XaFcd6ZwJdki0xWqr8+9bFCtV23+flea6sR1bZWUF1dbUUHl5ufKxyW1PpojXeShe6EV4WBir8Gjq2zGG3r8ng2JMoUJkYa1LI9uX1PtaFWL/4Tw1sh1Jfa5V8daOyVd3YufZdewesT70rHMMWeJpyhftyoh2YDpGTVvfUnSW7v1wP63cYw6a+jhWWS+knnmYlTM1TVHEtSrP39SN7hqYEmDtil3T7KZhX1iFyNcHs7Xlb9jTqu0jcK7FZ9IF28D2pT4Lv6SPU2ye1KuHUe8W36ul/67fTIXfraX/1tq/30gXsodZODq7366cz4VzKaLdhecn5cLDQtBBtfgOM00Bif20PIEOn5+jiBgtrw/n/YeEKrQrmTo/J3G8UtjXh9Rvmn7lfGyK59Pu2PB3SAjmoprscGqLyhuT+I3tI7tjw+hM07+2j1witz3XiNe5Lg7PUohO0EZZBRZMwKfnswl9fZZkliOP2NbhbK4EHOlv/MduIWxCoIK0NlgNOfrdvUK+M63BSsXgcNi3UL2CO1H58QO2v6RIpHYuXCrUYOqaTdMnSqSj6HgVZTummdi5hGa84WNHZ1MmZSmsLRfcTdwkOdEHztm+or7e9ocbpCQqOtIbkQPHFZbC15pJfTxnZ3wmfgA6BaRTUNMpcNSBnEYQPno4gHI8xx0BdKzCIoRNQEwqo6ZqkQLHiePNeTNfEHFndTju4BE+oJByf5W/oZccc1j822KBjIliExxWzDBBMkuMd2Mry5cvp9dfX0KrVq1q8f7KxVNpkGO+J4FEGjJ8SMtdMaFmcUglYRqaTYOcYul4TurlOZSDfGZCGUvPLn6Jcuxjr0bFOQm1H3bKL9suz9viFAogzvGcBRCmaIczUJhLeXJNyJpPud/b/hZJjCUh9HBCO3LUznmF8ovNiwsd18alULJwOUoI8d2F8kvXjxQ6rbRLTbFtpH2yU+iE/C25rlepMcw7fqAttr89wafiB2BKBp0CIrNyPEeM3YNkjsZf8ts6Edu6WrGPWDhGz1cHcJyIkyUcJzves548jiuA9g1RH9DCp2Mq9XTod/M+XEG5LgLFIV/XvM8c4v5flEn26Vp7Zjgs5bZspn+84zqPVXOm7JFjaMrfNruMqisV8bklsXTTEKn0qp6TNWISTXpILHfQQMeg8/HdKT3J9rcN82fzaMlOF9YeX0fz/uHYvWZRpsHjYMqRnjHQ9pdIHi150VV0ZDPlvTGPVju0r9jMnk0jP1FdmdgQ3mqm+MNFrnOAsfO56EMHOZPUgToK3Y2JuqY6qJ+iZbRorYtsb0jR8apjzKtkShbFeFhfynIKu8CuB1fbq8ylZW9tZhLdc3wufgA6BURmdTcLNqcJdKboVHnsHuODto5wA+6IfWFEhYkKIXL4J4WaRyf3BOwfxzHugwJhhApxsvQ6JrRvnLPAH83MokFDHdRP6Tqa8+A0entb8fkpnNpiyvt0Hk2bu87pSTfr6qwWox+xg7JpiMMmkcdq/ONvU+6R811BffVx2rX6RZo8cwXlC+EVLFT8zQJa8LmLzgQRn2+WmVNLu5Oy+9n+9hld6BKnqfxyWjd3Gs37NI+KxZEpK7Nt29s07dEllO/QG5quz6ZBsqLO2JgGXOVU35bdS2jKk2/T5sLy5jZkKc+ndS9Ok0ijkkp33iiGB0ilQb91GF8RcoBNoyXfFFK5eO4s5VT4zRKaNtX5fHYafAmJgb1Tr85xGK2xUP4bU2jaG5upUNwYq5vyws20ZPoU5xQdaTk0qFmYxtKg3ziPPgrbeyvXua4fnEPrFBOfyhNyDt5FOgEHpPMp8KWdvRD47Km1hyj/pP8TkroCcUaw3BarTuB86U+QPNbTDPpq6iMQCFQ7EA0c6VBE3G1XCKiY3bsNDc1o65PRPozwwIdn474K2eCeWl4fEIlo3/4YzdSlXR1ZTVMmv+1ZJNuEHJr7z0mU5TDVlP/ueJohk5sK8U6EZcRlZYJN9sSOfok+ut9FrByZY8165D2ae6MXniMn19GMB1lnansJcuasoUmOvkZ2CPVRsZ1enTSPNte2tEMdiTTqr+/RBLtAjyVrZ9DEN+yPIpMm/dNhus0bJOwcOWc1jesr0652LqGRz66zvQCs3tewere9Kl4+haZ84FELYuJpOr353JDzPj/lm2nOxAUe5IZj7Sr+Snp04ZN0dQfRjnLa/OeJtGCHBxtjMmfgY2/Ss9fbtSlrCa2eOVE6H5tKMh96k15yFWvIhnid+2Xkxx7RN8IfGeEDCTg1L703w2Phw/E/GKlDHXrq9A8hIqZpwQgMpp4wGqNV5GSkckHKFwg0jO6gIAq6L6Kai9O4xs/Q7iZdR9GzD2U6PNGqIZFynhjrJHxA5ri5NNaTqRxTJo2VS0badQiNkhQjPoroLEXMpTTJKU2HGkyUfv/cFsInUEkd86xzdGQ1RA2h6U/YCR+QOIQm/c6T9miijPsm0GUtRtESacjDDzhFgVaDqd8DNMle+ICwZBr1uHNUab3wu/gBuNmhU0fH4O+kqEYE04Pwf7iiW7ztHU6ggjrElM7l3QQXRI8RU7RADCF1BFKyQBChQLzAZ0gsGwsqmvPU2b+P7+H74u+RygViByNUGPXxFeI0V7BO4yaPeI6eZU+j6u9sJsp6+CXXaRzCUumO+XMpR9J52QWmZMqZ/ZxCGgcpx2f20+uvogEaOjq7S2z/h+ilh7Pc6rAThz9Lzzsmbg1UEB35j89STkc3zgDSVrw8nQZJNKHk4c/RS/e6I4CYkBw9l57Olhig6JhDz80f65ZgMaWPorl/zHFyvhZIYdubM8o5r5gOGEL8iKBjEJZsc18gAXSQWB2HJexB9TTcyhGTcv7fLd0pRsP8dxBEKBAv8BkSy+SVB5rz1Nm/j+/h+1qNHLkLRnueZg899ilYghPkXHqT/v6IiuSlSHr63Js010W+rmZis5pyMklk8nZEWOK++E3XYsoOZ8fnWLrpt4PcEh6SOPU0yeTOCvTk4XPpvefvkMjc7gAyvj+0kBYzsSRlbXJGZsv3EzKpp5aaOyquaWVVM+zMaXGJo76X/J2mqqnvXqPo2X+8JCN0Yyn9zpfotSeyldsjO5/ZT7xGC+/PpBjbW47E9rqDXlo8nbIVxZmJkm+cTq8tmCCbLT+23wRaqGZ7JpNX7TLsTwzb35rTFKzoHIWFhaqeQ48MD6Ur0uKFp0A4VBrBFwj5QqLYcZktjbZgUfqCJ+EnrutCz2Snaip6PKkPIxIsdnRPNNFNfRLIwhrVz8eqbe8GHp5cHxD2b9+VQdemG8cbVe921SZ9MI0cdQNd0LaWSo+VU3lVLQn+qqZYSu7Rn3ImzKAZj91NV3VR6ehtSqTe14ykUddlkKmynEpYMbN7Znh4OMW260w9+w+nex+bTjPGDqHuyrqnidAO1DvTSr9uK6DSc1E0cNzzNPHaRO/FT0wXSj7zFX21v8lz1dRvLE0e09tBKLTEsT5MyVk0bPQwuiLVRKUnS6miymyLm2SixJQLaPA9U2nWjIk0rK/M8XboTZdGFtG3u49RSGwm3fb0FLpBTTp9tUQmUaK9nR1vowfuv4jaMltctqu2Jqr8+isqsN0CEkeMpwkDkp01U2gb6inU9wWUaCmlI2VN9Q1MCcmU1j+HJjzJ2tBdV1FnV0rFjri0K2jkbaw9tgmjyory8+fT1h6zx0ym6bMm0g09mmpJ9vqI7U5XjLyDbuibQGFm1rbPmslcJ2yMYjumUf8b76DJT86miTd0pzilIZdaM1niMuiqm0fRDRckUm3pESqvNFOtkH7Nvq4HUf2KzVQg/KiJDgNGUnZv+VF10Q6/OzwrgSdTPKViyN5f6O3wjCdgnB6IHozyICK2HiM9ujh0+oFgtGNbcRU9v+GIoR3/XeHO9YERnvkj0gw5hcuvD/0p2ZtLxZRKWb2Sz2e1d0HA1ofVQiX786i4Io5SB2RSUogKO6wllL+jmKrapNLAPgqjfn5C9/ow59OyP86mFfstTOMk06Apc2nW9TLnYvfbdPfM1S3CPGQ+/B69NFx+SFG0w/DiR8SfIkhP8QORA/GDqT69fR4C9mbiQDDbIUxH7fKtz423qLk+IHp80ca9gV8fxoLbYSz0tqP88xk0/nW7dXKmTJqw8CUaJbXGx1pMq2dOcVgZlkxjF71JdygsBhDtCBjxI4JO4RXWQWDlC8Lq+wK9xA+G/u+/rKOwhNkX8IvQWMjZAX8cODQHwkiQ3PURCKJHhF8fxoLbYSz0tsPy/QIa8+Jm2ysbGAG6ZyqNvSmLUuHvhTg/u9bTsleX0ZaTDg+IaRPotUWjnCJFOyLaEXDiRwT+QBBAvuggtBQ/GOWB2Bmd1c7nQ//8IjQWauwwwrSvElLXh6+FvRbw68NYcDuMhe52WPPp7YkzaLVHwQtNNOSp92j61crObaIdASt+7MFo0AYmhPC0rIcQ8lb84OkXncAVrEPwZ2fAL0Jj4Y4d/hjxVIt4fVTXn6NRF7UTRE8grt7i14ex4HYYC1/YYdm1hCY+4xzpXInE4XNdrvBzRLQjKMSPPaIQ2lZ0VohvogWeiB9R8Iy+qL1hwvTzi9BYeGoHlqbDL2gra+P+nhZDOx+W2Zau7xFPl3VP4O3KAHA7jAW3wz3Kv19A017crFoAmS6eRK89l0PJKtcIiXYEnfhxBB3FnpJq2sM6CfzryfSBkvjBKq2+yTGCyEExajBCfhEaCy3sgNiHCMKI0FbWtvUeFYLYuZy1b7TzbCbu8ZrXh7HgdhgLbof7mPevo1fmv+Ps19MCE6Xf+Sw9f1cWxbqxOFq0I+jFjxToMI5U1Al/bytqEkNH2HtHbe850j4mnC7sFEVCSIVzIRTPhBBu/gmR4cK/gQK/CI2FHnbAF27PyWo6egbtmQmjw2c9jpcFv52ESLT1GLo8LY66tomUnM7i9WEsuB3GgtvhIQgZsGsDrfh4NeUWlFC5EDoJcYMyaeCwbLp16BBKdz/vSbMdrVL8uAu3w1hwOzwHI6GVdUK0MCc8FfO8PowFt8NYcDuMhWgHFz8q4HYYC26HseB2GAtuh7HgdhiLJjus9P98p5JZrM5CYwAAAABJRU5ErkJggg==)\n",
        "\n",
        "# **Ejercicio de la semana 2**\n",
        "\n",
        "\n",
        "\n",
        "*   Importación de librerias de trabajo\n",
        "\n"
      ],
      "metadata": {
        "id": "8KYZy9v2EGRM"
      }
    },
    {
      "cell_type": "code",
      "execution_count": 48,
      "metadata": {
        "id": "ZneH4YKY8gRv"
      },
      "outputs": [],
      "source": [
        "#Importa Librerias\n",
        "import pandas as pd"
      ]
    },
    {
      "cell_type": "markdown",
      "source": [
        "\n",
        "*   Linea para conectarse al drive de google\n",
        "\n"
      ],
      "metadata": {
        "id": "tRaV4U9OtYdx"
      }
    },
    {
      "cell_type": "code",
      "source": [
        "from google.colab import drive\n",
        "drive.mount('/content/drive')"
      ],
      "metadata": {
        "colab": {
          "base_uri": "https://localhost:8080/"
        },
        "id": "bbKuofs0tWrB",
        "outputId": "36e22e7e-5305-41a1-ac8c-fc3ef3949818"
      },
      "execution_count": 49,
      "outputs": [
        {
          "output_type": "stream",
          "name": "stdout",
          "text": [
            "Drive already mounted at /content/drive; to attempt to forcibly remount, call drive.mount(\"/content/drive\", force_remount=True).\n"
          ]
        }
      ]
    },
    {
      "cell_type": "markdown",
      "source": [
        "*   Importación del archivo en el dataframe"
      ],
      "metadata": {
        "id": "1rNUkrLegvcX"
      }
    },
    {
      "cell_type": "code",
      "source": [
        "#Carga el archivo en memoria\n",
        "df_insurance=pd.read_csv(\"/content/drive/MyDrive/maestria2023/modulo1/machineLearningAI/week1/insurance.csv\")\n"
      ],
      "metadata": {
        "id": "mfSY8ik1-kTg"
      },
      "execution_count": 50,
      "outputs": []
    },
    {
      "cell_type": "code",
      "source": [
        "#Exploración Inicial del dataset que ahora es un dataframe\n",
        "df_insurance"
      ],
      "metadata": {
        "colab": {
          "base_uri": "https://localhost:8080/",
          "height": 424
        },
        "id": "zeUvG-fL-_iY",
        "outputId": "e7ee5738-a9af-4804-c10c-ee7fd094f959"
      },
      "execution_count": 51,
      "outputs": [
        {
          "output_type": "execute_result",
          "data": {
            "text/plain": [
              "      age     sex     bmi  children smoker     region      charges\n",
              "0      19  female  27.900         0    yes  southwest  16884.92400\n",
              "1      18    male  33.770         1     no  southeast   1725.55230\n",
              "2      28    male  33.000         3     no  southeast   4449.46200\n",
              "3      33    male  22.705         0     no  northwest  21984.47061\n",
              "4      32    male  28.880         0     no  northwest   3866.85520\n",
              "...   ...     ...     ...       ...    ...        ...          ...\n",
              "1333   50    male  30.970         3     no  northwest  10600.54830\n",
              "1334   18  female  31.920         0     no  northeast   2205.98080\n",
              "1335   18  female  36.850         0     no  southeast   1629.83350\n",
              "1336   21  female  25.800         0     no  southwest   2007.94500\n",
              "1337   61  female  29.070         0    yes  northwest  29141.36030\n",
              "\n",
              "[1338 rows x 7 columns]"
            ],
            "text/html": [
              "\n",
              "  <div id=\"df-5da76a48-9fcc-4d06-b5f0-c02d0d2bdf96\">\n",
              "    <div class=\"colab-df-container\">\n",
              "      <div>\n",
              "<style scoped>\n",
              "    .dataframe tbody tr th:only-of-type {\n",
              "        vertical-align: middle;\n",
              "    }\n",
              "\n",
              "    .dataframe tbody tr th {\n",
              "        vertical-align: top;\n",
              "    }\n",
              "\n",
              "    .dataframe thead th {\n",
              "        text-align: right;\n",
              "    }\n",
              "</style>\n",
              "<table border=\"1\" class=\"dataframe\">\n",
              "  <thead>\n",
              "    <tr style=\"text-align: right;\">\n",
              "      <th></th>\n",
              "      <th>age</th>\n",
              "      <th>sex</th>\n",
              "      <th>bmi</th>\n",
              "      <th>children</th>\n",
              "      <th>smoker</th>\n",
              "      <th>region</th>\n",
              "      <th>charges</th>\n",
              "    </tr>\n",
              "  </thead>\n",
              "  <tbody>\n",
              "    <tr>\n",
              "      <th>0</th>\n",
              "      <td>19</td>\n",
              "      <td>female</td>\n",
              "      <td>27.900</td>\n",
              "      <td>0</td>\n",
              "      <td>yes</td>\n",
              "      <td>southwest</td>\n",
              "      <td>16884.92400</td>\n",
              "    </tr>\n",
              "    <tr>\n",
              "      <th>1</th>\n",
              "      <td>18</td>\n",
              "      <td>male</td>\n",
              "      <td>33.770</td>\n",
              "      <td>1</td>\n",
              "      <td>no</td>\n",
              "      <td>southeast</td>\n",
              "      <td>1725.55230</td>\n",
              "    </tr>\n",
              "    <tr>\n",
              "      <th>2</th>\n",
              "      <td>28</td>\n",
              "      <td>male</td>\n",
              "      <td>33.000</td>\n",
              "      <td>3</td>\n",
              "      <td>no</td>\n",
              "      <td>southeast</td>\n",
              "      <td>4449.46200</td>\n",
              "    </tr>\n",
              "    <tr>\n",
              "      <th>3</th>\n",
              "      <td>33</td>\n",
              "      <td>male</td>\n",
              "      <td>22.705</td>\n",
              "      <td>0</td>\n",
              "      <td>no</td>\n",
              "      <td>northwest</td>\n",
              "      <td>21984.47061</td>\n",
              "    </tr>\n",
              "    <tr>\n",
              "      <th>4</th>\n",
              "      <td>32</td>\n",
              "      <td>male</td>\n",
              "      <td>28.880</td>\n",
              "      <td>0</td>\n",
              "      <td>no</td>\n",
              "      <td>northwest</td>\n",
              "      <td>3866.85520</td>\n",
              "    </tr>\n",
              "    <tr>\n",
              "      <th>...</th>\n",
              "      <td>...</td>\n",
              "      <td>...</td>\n",
              "      <td>...</td>\n",
              "      <td>...</td>\n",
              "      <td>...</td>\n",
              "      <td>...</td>\n",
              "      <td>...</td>\n",
              "    </tr>\n",
              "    <tr>\n",
              "      <th>1333</th>\n",
              "      <td>50</td>\n",
              "      <td>male</td>\n",
              "      <td>30.970</td>\n",
              "      <td>3</td>\n",
              "      <td>no</td>\n",
              "      <td>northwest</td>\n",
              "      <td>10600.54830</td>\n",
              "    </tr>\n",
              "    <tr>\n",
              "      <th>1334</th>\n",
              "      <td>18</td>\n",
              "      <td>female</td>\n",
              "      <td>31.920</td>\n",
              "      <td>0</td>\n",
              "      <td>no</td>\n",
              "      <td>northeast</td>\n",
              "      <td>2205.98080</td>\n",
              "    </tr>\n",
              "    <tr>\n",
              "      <th>1335</th>\n",
              "      <td>18</td>\n",
              "      <td>female</td>\n",
              "      <td>36.850</td>\n",
              "      <td>0</td>\n",
              "      <td>no</td>\n",
              "      <td>southeast</td>\n",
              "      <td>1629.83350</td>\n",
              "    </tr>\n",
              "    <tr>\n",
              "      <th>1336</th>\n",
              "      <td>21</td>\n",
              "      <td>female</td>\n",
              "      <td>25.800</td>\n",
              "      <td>0</td>\n",
              "      <td>no</td>\n",
              "      <td>southwest</td>\n",
              "      <td>2007.94500</td>\n",
              "    </tr>\n",
              "    <tr>\n",
              "      <th>1337</th>\n",
              "      <td>61</td>\n",
              "      <td>female</td>\n",
              "      <td>29.070</td>\n",
              "      <td>0</td>\n",
              "      <td>yes</td>\n",
              "      <td>northwest</td>\n",
              "      <td>29141.36030</td>\n",
              "    </tr>\n",
              "  </tbody>\n",
              "</table>\n",
              "<p>1338 rows × 7 columns</p>\n",
              "</div>\n",
              "      <button class=\"colab-df-convert\" onclick=\"convertToInteractive('df-5da76a48-9fcc-4d06-b5f0-c02d0d2bdf96')\"\n",
              "              title=\"Convert this dataframe to an interactive table.\"\n",
              "              style=\"display:none;\">\n",
              "        \n",
              "  <svg xmlns=\"http://www.w3.org/2000/svg\" height=\"24px\"viewBox=\"0 0 24 24\"\n",
              "       width=\"24px\">\n",
              "    <path d=\"M0 0h24v24H0V0z\" fill=\"none\"/>\n",
              "    <path d=\"M18.56 5.44l.94 2.06.94-2.06 2.06-.94-2.06-.94-.94-2.06-.94 2.06-2.06.94zm-11 1L8.5 8.5l.94-2.06 2.06-.94-2.06-.94L8.5 2.5l-.94 2.06-2.06.94zm10 10l.94 2.06.94-2.06 2.06-.94-2.06-.94-.94-2.06-.94 2.06-2.06.94z\"/><path d=\"M17.41 7.96l-1.37-1.37c-.4-.4-.92-.59-1.43-.59-.52 0-1.04.2-1.43.59L10.3 9.45l-7.72 7.72c-.78.78-.78 2.05 0 2.83L4 21.41c.39.39.9.59 1.41.59.51 0 1.02-.2 1.41-.59l7.78-7.78 2.81-2.81c.8-.78.8-2.07 0-2.86zM5.41 20L4 18.59l7.72-7.72 1.47 1.35L5.41 20z\"/>\n",
              "  </svg>\n",
              "      </button>\n",
              "      \n",
              "  <style>\n",
              "    .colab-df-container {\n",
              "      display:flex;\n",
              "      flex-wrap:wrap;\n",
              "      gap: 12px;\n",
              "    }\n",
              "\n",
              "    .colab-df-convert {\n",
              "      background-color: #E8F0FE;\n",
              "      border: none;\n",
              "      border-radius: 50%;\n",
              "      cursor: pointer;\n",
              "      display: none;\n",
              "      fill: #1967D2;\n",
              "      height: 32px;\n",
              "      padding: 0 0 0 0;\n",
              "      width: 32px;\n",
              "    }\n",
              "\n",
              "    .colab-df-convert:hover {\n",
              "      background-color: #E2EBFA;\n",
              "      box-shadow: 0px 1px 2px rgba(60, 64, 67, 0.3), 0px 1px 3px 1px rgba(60, 64, 67, 0.15);\n",
              "      fill: #174EA6;\n",
              "    }\n",
              "\n",
              "    [theme=dark] .colab-df-convert {\n",
              "      background-color: #3B4455;\n",
              "      fill: #D2E3FC;\n",
              "    }\n",
              "\n",
              "    [theme=dark] .colab-df-convert:hover {\n",
              "      background-color: #434B5C;\n",
              "      box-shadow: 0px 1px 3px 1px rgba(0, 0, 0, 0.15);\n",
              "      filter: drop-shadow(0px 1px 2px rgba(0, 0, 0, 0.3));\n",
              "      fill: #FFFFFF;\n",
              "    }\n",
              "  </style>\n",
              "\n",
              "      <script>\n",
              "        const buttonEl =\n",
              "          document.querySelector('#df-5da76a48-9fcc-4d06-b5f0-c02d0d2bdf96 button.colab-df-convert');\n",
              "        buttonEl.style.display =\n",
              "          google.colab.kernel.accessAllowed ? 'block' : 'none';\n",
              "\n",
              "        async function convertToInteractive(key) {\n",
              "          const element = document.querySelector('#df-5da76a48-9fcc-4d06-b5f0-c02d0d2bdf96');\n",
              "          const dataTable =\n",
              "            await google.colab.kernel.invokeFunction('convertToInteractive',\n",
              "                                                     [key], {});\n",
              "          if (!dataTable) return;\n",
              "\n",
              "          const docLinkHtml = 'Like what you see? Visit the ' +\n",
              "            '<a target=\"_blank\" href=https://colab.research.google.com/notebooks/data_table.ipynb>data table notebook</a>'\n",
              "            + ' to learn more about interactive tables.';\n",
              "          element.innerHTML = '';\n",
              "          dataTable['output_type'] = 'display_data';\n",
              "          await google.colab.output.renderOutput(dataTable, element);\n",
              "          const docLink = document.createElement('div');\n",
              "          docLink.innerHTML = docLinkHtml;\n",
              "          element.appendChild(docLink);\n",
              "        }\n",
              "      </script>\n",
              "    </div>\n",
              "  </div>\n",
              "  "
            ]
          },
          "metadata": {},
          "execution_count": 51
        }
      ]
    },
    {
      "cell_type": "code",
      "source": [
        "#Valida las primeras filas del archivo\n",
        "df_insurance.head()"
      ],
      "metadata": {
        "colab": {
          "base_uri": "https://localhost:8080/",
          "height": 206
        },
        "id": "YmWP-iq2Abzv",
        "outputId": "7ad48de6-b36e-47cc-b8eb-8061cdfc3173"
      },
      "execution_count": 52,
      "outputs": [
        {
          "output_type": "execute_result",
          "data": {
            "text/plain": [
              "   age     sex     bmi  children smoker     region      charges\n",
              "0   19  female  27.900         0    yes  southwest  16884.92400\n",
              "1   18    male  33.770         1     no  southeast   1725.55230\n",
              "2   28    male  33.000         3     no  southeast   4449.46200\n",
              "3   33    male  22.705         0     no  northwest  21984.47061\n",
              "4   32    male  28.880         0     no  northwest   3866.85520"
            ],
            "text/html": [
              "\n",
              "  <div id=\"df-1819b0d0-9567-453f-aee9-217c14d82f48\">\n",
              "    <div class=\"colab-df-container\">\n",
              "      <div>\n",
              "<style scoped>\n",
              "    .dataframe tbody tr th:only-of-type {\n",
              "        vertical-align: middle;\n",
              "    }\n",
              "\n",
              "    .dataframe tbody tr th {\n",
              "        vertical-align: top;\n",
              "    }\n",
              "\n",
              "    .dataframe thead th {\n",
              "        text-align: right;\n",
              "    }\n",
              "</style>\n",
              "<table border=\"1\" class=\"dataframe\">\n",
              "  <thead>\n",
              "    <tr style=\"text-align: right;\">\n",
              "      <th></th>\n",
              "      <th>age</th>\n",
              "      <th>sex</th>\n",
              "      <th>bmi</th>\n",
              "      <th>children</th>\n",
              "      <th>smoker</th>\n",
              "      <th>region</th>\n",
              "      <th>charges</th>\n",
              "    </tr>\n",
              "  </thead>\n",
              "  <tbody>\n",
              "    <tr>\n",
              "      <th>0</th>\n",
              "      <td>19</td>\n",
              "      <td>female</td>\n",
              "      <td>27.900</td>\n",
              "      <td>0</td>\n",
              "      <td>yes</td>\n",
              "      <td>southwest</td>\n",
              "      <td>16884.92400</td>\n",
              "    </tr>\n",
              "    <tr>\n",
              "      <th>1</th>\n",
              "      <td>18</td>\n",
              "      <td>male</td>\n",
              "      <td>33.770</td>\n",
              "      <td>1</td>\n",
              "      <td>no</td>\n",
              "      <td>southeast</td>\n",
              "      <td>1725.55230</td>\n",
              "    </tr>\n",
              "    <tr>\n",
              "      <th>2</th>\n",
              "      <td>28</td>\n",
              "      <td>male</td>\n",
              "      <td>33.000</td>\n",
              "      <td>3</td>\n",
              "      <td>no</td>\n",
              "      <td>southeast</td>\n",
              "      <td>4449.46200</td>\n",
              "    </tr>\n",
              "    <tr>\n",
              "      <th>3</th>\n",
              "      <td>33</td>\n",
              "      <td>male</td>\n",
              "      <td>22.705</td>\n",
              "      <td>0</td>\n",
              "      <td>no</td>\n",
              "      <td>northwest</td>\n",
              "      <td>21984.47061</td>\n",
              "    </tr>\n",
              "    <tr>\n",
              "      <th>4</th>\n",
              "      <td>32</td>\n",
              "      <td>male</td>\n",
              "      <td>28.880</td>\n",
              "      <td>0</td>\n",
              "      <td>no</td>\n",
              "      <td>northwest</td>\n",
              "      <td>3866.85520</td>\n",
              "    </tr>\n",
              "  </tbody>\n",
              "</table>\n",
              "</div>\n",
              "      <button class=\"colab-df-convert\" onclick=\"convertToInteractive('df-1819b0d0-9567-453f-aee9-217c14d82f48')\"\n",
              "              title=\"Convert this dataframe to an interactive table.\"\n",
              "              style=\"display:none;\">\n",
              "        \n",
              "  <svg xmlns=\"http://www.w3.org/2000/svg\" height=\"24px\"viewBox=\"0 0 24 24\"\n",
              "       width=\"24px\">\n",
              "    <path d=\"M0 0h24v24H0V0z\" fill=\"none\"/>\n",
              "    <path d=\"M18.56 5.44l.94 2.06.94-2.06 2.06-.94-2.06-.94-.94-2.06-.94 2.06-2.06.94zm-11 1L8.5 8.5l.94-2.06 2.06-.94-2.06-.94L8.5 2.5l-.94 2.06-2.06.94zm10 10l.94 2.06.94-2.06 2.06-.94-2.06-.94-.94-2.06-.94 2.06-2.06.94z\"/><path d=\"M17.41 7.96l-1.37-1.37c-.4-.4-.92-.59-1.43-.59-.52 0-1.04.2-1.43.59L10.3 9.45l-7.72 7.72c-.78.78-.78 2.05 0 2.83L4 21.41c.39.39.9.59 1.41.59.51 0 1.02-.2 1.41-.59l7.78-7.78 2.81-2.81c.8-.78.8-2.07 0-2.86zM5.41 20L4 18.59l7.72-7.72 1.47 1.35L5.41 20z\"/>\n",
              "  </svg>\n",
              "      </button>\n",
              "      \n",
              "  <style>\n",
              "    .colab-df-container {\n",
              "      display:flex;\n",
              "      flex-wrap:wrap;\n",
              "      gap: 12px;\n",
              "    }\n",
              "\n",
              "    .colab-df-convert {\n",
              "      background-color: #E8F0FE;\n",
              "      border: none;\n",
              "      border-radius: 50%;\n",
              "      cursor: pointer;\n",
              "      display: none;\n",
              "      fill: #1967D2;\n",
              "      height: 32px;\n",
              "      padding: 0 0 0 0;\n",
              "      width: 32px;\n",
              "    }\n",
              "\n",
              "    .colab-df-convert:hover {\n",
              "      background-color: #E2EBFA;\n",
              "      box-shadow: 0px 1px 2px rgba(60, 64, 67, 0.3), 0px 1px 3px 1px rgba(60, 64, 67, 0.15);\n",
              "      fill: #174EA6;\n",
              "    }\n",
              "\n",
              "    [theme=dark] .colab-df-convert {\n",
              "      background-color: #3B4455;\n",
              "      fill: #D2E3FC;\n",
              "    }\n",
              "\n",
              "    [theme=dark] .colab-df-convert:hover {\n",
              "      background-color: #434B5C;\n",
              "      box-shadow: 0px 1px 3px 1px rgba(0, 0, 0, 0.15);\n",
              "      filter: drop-shadow(0px 1px 2px rgba(0, 0, 0, 0.3));\n",
              "      fill: #FFFFFF;\n",
              "    }\n",
              "  </style>\n",
              "\n",
              "      <script>\n",
              "        const buttonEl =\n",
              "          document.querySelector('#df-1819b0d0-9567-453f-aee9-217c14d82f48 button.colab-df-convert');\n",
              "        buttonEl.style.display =\n",
              "          google.colab.kernel.accessAllowed ? 'block' : 'none';\n",
              "\n",
              "        async function convertToInteractive(key) {\n",
              "          const element = document.querySelector('#df-1819b0d0-9567-453f-aee9-217c14d82f48');\n",
              "          const dataTable =\n",
              "            await google.colab.kernel.invokeFunction('convertToInteractive',\n",
              "                                                     [key], {});\n",
              "          if (!dataTable) return;\n",
              "\n",
              "          const docLinkHtml = 'Like what you see? Visit the ' +\n",
              "            '<a target=\"_blank\" href=https://colab.research.google.com/notebooks/data_table.ipynb>data table notebook</a>'\n",
              "            + ' to learn more about interactive tables.';\n",
              "          element.innerHTML = '';\n",
              "          dataTable['output_type'] = 'display_data';\n",
              "          await google.colab.output.renderOutput(dataTable, element);\n",
              "          const docLink = document.createElement('div');\n",
              "          docLink.innerHTML = docLinkHtml;\n",
              "          element.appendChild(docLink);\n",
              "        }\n",
              "      </script>\n",
              "    </div>\n",
              "  </div>\n",
              "  "
            ]
          },
          "metadata": {},
          "execution_count": 52
        }
      ]
    },
    {
      "cell_type": "markdown",
      "source": [
        "Validar ultimas filas del archivo"
      ],
      "metadata": {
        "id": "UPBCRmMJsoo7"
      }
    },
    {
      "cell_type": "code",
      "source": [
        "df_insurance.tail(10)"
      ],
      "metadata": {
        "colab": {
          "base_uri": "https://localhost:8080/",
          "height": 363
        },
        "id": "lBeprfl1s8cD",
        "outputId": "3d680bca-673f-4d70-bf4e-0df80dc22c6e"
      },
      "execution_count": 53,
      "outputs": [
        {
          "output_type": "execute_result",
          "data": {
            "text/plain": [
              "      age     sex     bmi  children smoker     region      charges\n",
              "1328   23  female  24.225         2     no  northeast  22395.74424\n",
              "1329   52    male  38.600         2     no  southwest  10325.20600\n",
              "1330   57  female  25.740         2     no  southeast  12629.16560\n",
              "1331   23  female  33.400         0     no  southwest  10795.93733\n",
              "1332   52  female  44.700         3     no  southwest  11411.68500\n",
              "1333   50    male  30.970         3     no  northwest  10600.54830\n",
              "1334   18  female  31.920         0     no  northeast   2205.98080\n",
              "1335   18  female  36.850         0     no  southeast   1629.83350\n",
              "1336   21  female  25.800         0     no  southwest   2007.94500\n",
              "1337   61  female  29.070         0    yes  northwest  29141.36030"
            ],
            "text/html": [
              "\n",
              "  <div id=\"df-b3aa4683-4843-488f-9932-f1f91577119a\">\n",
              "    <div class=\"colab-df-container\">\n",
              "      <div>\n",
              "<style scoped>\n",
              "    .dataframe tbody tr th:only-of-type {\n",
              "        vertical-align: middle;\n",
              "    }\n",
              "\n",
              "    .dataframe tbody tr th {\n",
              "        vertical-align: top;\n",
              "    }\n",
              "\n",
              "    .dataframe thead th {\n",
              "        text-align: right;\n",
              "    }\n",
              "</style>\n",
              "<table border=\"1\" class=\"dataframe\">\n",
              "  <thead>\n",
              "    <tr style=\"text-align: right;\">\n",
              "      <th></th>\n",
              "      <th>age</th>\n",
              "      <th>sex</th>\n",
              "      <th>bmi</th>\n",
              "      <th>children</th>\n",
              "      <th>smoker</th>\n",
              "      <th>region</th>\n",
              "      <th>charges</th>\n",
              "    </tr>\n",
              "  </thead>\n",
              "  <tbody>\n",
              "    <tr>\n",
              "      <th>1328</th>\n",
              "      <td>23</td>\n",
              "      <td>female</td>\n",
              "      <td>24.225</td>\n",
              "      <td>2</td>\n",
              "      <td>no</td>\n",
              "      <td>northeast</td>\n",
              "      <td>22395.74424</td>\n",
              "    </tr>\n",
              "    <tr>\n",
              "      <th>1329</th>\n",
              "      <td>52</td>\n",
              "      <td>male</td>\n",
              "      <td>38.600</td>\n",
              "      <td>2</td>\n",
              "      <td>no</td>\n",
              "      <td>southwest</td>\n",
              "      <td>10325.20600</td>\n",
              "    </tr>\n",
              "    <tr>\n",
              "      <th>1330</th>\n",
              "      <td>57</td>\n",
              "      <td>female</td>\n",
              "      <td>25.740</td>\n",
              "      <td>2</td>\n",
              "      <td>no</td>\n",
              "      <td>southeast</td>\n",
              "      <td>12629.16560</td>\n",
              "    </tr>\n",
              "    <tr>\n",
              "      <th>1331</th>\n",
              "      <td>23</td>\n",
              "      <td>female</td>\n",
              "      <td>33.400</td>\n",
              "      <td>0</td>\n",
              "      <td>no</td>\n",
              "      <td>southwest</td>\n",
              "      <td>10795.93733</td>\n",
              "    </tr>\n",
              "    <tr>\n",
              "      <th>1332</th>\n",
              "      <td>52</td>\n",
              "      <td>female</td>\n",
              "      <td>44.700</td>\n",
              "      <td>3</td>\n",
              "      <td>no</td>\n",
              "      <td>southwest</td>\n",
              "      <td>11411.68500</td>\n",
              "    </tr>\n",
              "    <tr>\n",
              "      <th>1333</th>\n",
              "      <td>50</td>\n",
              "      <td>male</td>\n",
              "      <td>30.970</td>\n",
              "      <td>3</td>\n",
              "      <td>no</td>\n",
              "      <td>northwest</td>\n",
              "      <td>10600.54830</td>\n",
              "    </tr>\n",
              "    <tr>\n",
              "      <th>1334</th>\n",
              "      <td>18</td>\n",
              "      <td>female</td>\n",
              "      <td>31.920</td>\n",
              "      <td>0</td>\n",
              "      <td>no</td>\n",
              "      <td>northeast</td>\n",
              "      <td>2205.98080</td>\n",
              "    </tr>\n",
              "    <tr>\n",
              "      <th>1335</th>\n",
              "      <td>18</td>\n",
              "      <td>female</td>\n",
              "      <td>36.850</td>\n",
              "      <td>0</td>\n",
              "      <td>no</td>\n",
              "      <td>southeast</td>\n",
              "      <td>1629.83350</td>\n",
              "    </tr>\n",
              "    <tr>\n",
              "      <th>1336</th>\n",
              "      <td>21</td>\n",
              "      <td>female</td>\n",
              "      <td>25.800</td>\n",
              "      <td>0</td>\n",
              "      <td>no</td>\n",
              "      <td>southwest</td>\n",
              "      <td>2007.94500</td>\n",
              "    </tr>\n",
              "    <tr>\n",
              "      <th>1337</th>\n",
              "      <td>61</td>\n",
              "      <td>female</td>\n",
              "      <td>29.070</td>\n",
              "      <td>0</td>\n",
              "      <td>yes</td>\n",
              "      <td>northwest</td>\n",
              "      <td>29141.36030</td>\n",
              "    </tr>\n",
              "  </tbody>\n",
              "</table>\n",
              "</div>\n",
              "      <button class=\"colab-df-convert\" onclick=\"convertToInteractive('df-b3aa4683-4843-488f-9932-f1f91577119a')\"\n",
              "              title=\"Convert this dataframe to an interactive table.\"\n",
              "              style=\"display:none;\">\n",
              "        \n",
              "  <svg xmlns=\"http://www.w3.org/2000/svg\" height=\"24px\"viewBox=\"0 0 24 24\"\n",
              "       width=\"24px\">\n",
              "    <path d=\"M0 0h24v24H0V0z\" fill=\"none\"/>\n",
              "    <path d=\"M18.56 5.44l.94 2.06.94-2.06 2.06-.94-2.06-.94-.94-2.06-.94 2.06-2.06.94zm-11 1L8.5 8.5l.94-2.06 2.06-.94-2.06-.94L8.5 2.5l-.94 2.06-2.06.94zm10 10l.94 2.06.94-2.06 2.06-.94-2.06-.94-.94-2.06-.94 2.06-2.06.94z\"/><path d=\"M17.41 7.96l-1.37-1.37c-.4-.4-.92-.59-1.43-.59-.52 0-1.04.2-1.43.59L10.3 9.45l-7.72 7.72c-.78.78-.78 2.05 0 2.83L4 21.41c.39.39.9.59 1.41.59.51 0 1.02-.2 1.41-.59l7.78-7.78 2.81-2.81c.8-.78.8-2.07 0-2.86zM5.41 20L4 18.59l7.72-7.72 1.47 1.35L5.41 20z\"/>\n",
              "  </svg>\n",
              "      </button>\n",
              "      \n",
              "  <style>\n",
              "    .colab-df-container {\n",
              "      display:flex;\n",
              "      flex-wrap:wrap;\n",
              "      gap: 12px;\n",
              "    }\n",
              "\n",
              "    .colab-df-convert {\n",
              "      background-color: #E8F0FE;\n",
              "      border: none;\n",
              "      border-radius: 50%;\n",
              "      cursor: pointer;\n",
              "      display: none;\n",
              "      fill: #1967D2;\n",
              "      height: 32px;\n",
              "      padding: 0 0 0 0;\n",
              "      width: 32px;\n",
              "    }\n",
              "\n",
              "    .colab-df-convert:hover {\n",
              "      background-color: #E2EBFA;\n",
              "      box-shadow: 0px 1px 2px rgba(60, 64, 67, 0.3), 0px 1px 3px 1px rgba(60, 64, 67, 0.15);\n",
              "      fill: #174EA6;\n",
              "    }\n",
              "\n",
              "    [theme=dark] .colab-df-convert {\n",
              "      background-color: #3B4455;\n",
              "      fill: #D2E3FC;\n",
              "    }\n",
              "\n",
              "    [theme=dark] .colab-df-convert:hover {\n",
              "      background-color: #434B5C;\n",
              "      box-shadow: 0px 1px 3px 1px rgba(0, 0, 0, 0.15);\n",
              "      filter: drop-shadow(0px 1px 2px rgba(0, 0, 0, 0.3));\n",
              "      fill: #FFFFFF;\n",
              "    }\n",
              "  </style>\n",
              "\n",
              "      <script>\n",
              "        const buttonEl =\n",
              "          document.querySelector('#df-b3aa4683-4843-488f-9932-f1f91577119a button.colab-df-convert');\n",
              "        buttonEl.style.display =\n",
              "          google.colab.kernel.accessAllowed ? 'block' : 'none';\n",
              "\n",
              "        async function convertToInteractive(key) {\n",
              "          const element = document.querySelector('#df-b3aa4683-4843-488f-9932-f1f91577119a');\n",
              "          const dataTable =\n",
              "            await google.colab.kernel.invokeFunction('convertToInteractive',\n",
              "                                                     [key], {});\n",
              "          if (!dataTable) return;\n",
              "\n",
              "          const docLinkHtml = 'Like what you see? Visit the ' +\n",
              "            '<a target=\"_blank\" href=https://colab.research.google.com/notebooks/data_table.ipynb>data table notebook</a>'\n",
              "            + ' to learn more about interactive tables.';\n",
              "          element.innerHTML = '';\n",
              "          dataTable['output_type'] = 'display_data';\n",
              "          await google.colab.output.renderOutput(dataTable, element);\n",
              "          const docLink = document.createElement('div');\n",
              "          docLink.innerHTML = docLinkHtml;\n",
              "          element.appendChild(docLink);\n",
              "        }\n",
              "      </script>\n",
              "    </div>\n",
              "  </div>\n",
              "  "
            ]
          },
          "metadata": {},
          "execution_count": 53
        }
      ]
    },
    {
      "cell_type": "markdown",
      "source": [
        "*   Validación de tipos de datos"
      ],
      "metadata": {
        "id": "joZhVhXjuJN5"
      }
    },
    {
      "cell_type": "code",
      "source": [
        "df_insurance.dtypes"
      ],
      "metadata": {
        "colab": {
          "base_uri": "https://localhost:8080/"
        },
        "id": "Z7CE3C2LuFkx",
        "outputId": "4d322d66-566b-4f08-91c7-a70ecf98ccd1"
      },
      "execution_count": 54,
      "outputs": [
        {
          "output_type": "execute_result",
          "data": {
            "text/plain": [
              "age           int64\n",
              "sex          object\n",
              "bmi         float64\n",
              "children      int64\n",
              "smoker       object\n",
              "region       object\n",
              "charges     float64\n",
              "dtype: object"
            ]
          },
          "metadata": {},
          "execution_count": 54
        }
      ]
    },
    {
      "cell_type": "markdown",
      "source": [
        "\n",
        "\n",
        "*   Validación de las estadísticas descriptivas básicas. Nos permiten validar información relevante como:\n",
        "  *   Edad mínima de la muestra 18 años, edad máxima 64.\n",
        "  *   Tan solo el 25% de la población es menor o igual a 27 años, el 50% entre los 39 y el 75% de la población es menor de 51 años.\n",
        "  *  Solo hay dos tipos de sexo. Masuclino y femenino.\n",
        "  *  4 regiones categoricas\n",
        "  * dos posibles valores en definición si es fumador.\n",
        "  * El valor mínimo de seguro son USD $ 1121 $  y el máximo USD $ 63770 $ \n",
        "  * La variable dependiente es \"Charges\". Definida por las otras 6 columnas.\n",
        "\n"
      ],
      "metadata": {
        "id": "V659U1wpwlsI"
      }
    },
    {
      "cell_type": "code",
      "source": [
        "#Recibimos las estadísticas básicas de los campos numéricos en el df\n",
        "df_insurance.describe(include='all')"
      ],
      "metadata": {
        "colab": {
          "base_uri": "https://localhost:8080/",
          "height": 394
        },
        "id": "ZCC7NObsB9Nh",
        "outputId": "eda4c34a-84ca-4f20-cf5f-86438c66dd88"
      },
      "execution_count": 55,
      "outputs": [
        {
          "output_type": "execute_result",
          "data": {
            "text/plain": [
              "                age   sex          bmi     children smoker     region  \\\n",
              "count   1338.000000  1338  1338.000000  1338.000000   1338       1338   \n",
              "unique          NaN     2          NaN          NaN      2          4   \n",
              "top             NaN  male          NaN          NaN     no  southeast   \n",
              "freq            NaN   676          NaN          NaN   1064        364   \n",
              "mean      39.207025   NaN    30.663397     1.094918    NaN        NaN   \n",
              "std       14.049960   NaN     6.098187     1.205493    NaN        NaN   \n",
              "min       18.000000   NaN    15.960000     0.000000    NaN        NaN   \n",
              "25%       27.000000   NaN    26.296250     0.000000    NaN        NaN   \n",
              "50%       39.000000   NaN    30.400000     1.000000    NaN        NaN   \n",
              "75%       51.000000   NaN    34.693750     2.000000    NaN        NaN   \n",
              "max       64.000000   NaN    53.130000     5.000000    NaN        NaN   \n",
              "\n",
              "             charges  \n",
              "count    1338.000000  \n",
              "unique           NaN  \n",
              "top              NaN  \n",
              "freq             NaN  \n",
              "mean    13270.422265  \n",
              "std     12110.011237  \n",
              "min      1121.873900  \n",
              "25%      4740.287150  \n",
              "50%      9382.033000  \n",
              "75%     16639.912515  \n",
              "max     63770.428010  "
            ],
            "text/html": [
              "\n",
              "  <div id=\"df-20eb1b1a-ada4-41ec-9bb9-b07147586539\">\n",
              "    <div class=\"colab-df-container\">\n",
              "      <div>\n",
              "<style scoped>\n",
              "    .dataframe tbody tr th:only-of-type {\n",
              "        vertical-align: middle;\n",
              "    }\n",
              "\n",
              "    .dataframe tbody tr th {\n",
              "        vertical-align: top;\n",
              "    }\n",
              "\n",
              "    .dataframe thead th {\n",
              "        text-align: right;\n",
              "    }\n",
              "</style>\n",
              "<table border=\"1\" class=\"dataframe\">\n",
              "  <thead>\n",
              "    <tr style=\"text-align: right;\">\n",
              "      <th></th>\n",
              "      <th>age</th>\n",
              "      <th>sex</th>\n",
              "      <th>bmi</th>\n",
              "      <th>children</th>\n",
              "      <th>smoker</th>\n",
              "      <th>region</th>\n",
              "      <th>charges</th>\n",
              "    </tr>\n",
              "  </thead>\n",
              "  <tbody>\n",
              "    <tr>\n",
              "      <th>count</th>\n",
              "      <td>1338.000000</td>\n",
              "      <td>1338</td>\n",
              "      <td>1338.000000</td>\n",
              "      <td>1338.000000</td>\n",
              "      <td>1338</td>\n",
              "      <td>1338</td>\n",
              "      <td>1338.000000</td>\n",
              "    </tr>\n",
              "    <tr>\n",
              "      <th>unique</th>\n",
              "      <td>NaN</td>\n",
              "      <td>2</td>\n",
              "      <td>NaN</td>\n",
              "      <td>NaN</td>\n",
              "      <td>2</td>\n",
              "      <td>4</td>\n",
              "      <td>NaN</td>\n",
              "    </tr>\n",
              "    <tr>\n",
              "      <th>top</th>\n",
              "      <td>NaN</td>\n",
              "      <td>male</td>\n",
              "      <td>NaN</td>\n",
              "      <td>NaN</td>\n",
              "      <td>no</td>\n",
              "      <td>southeast</td>\n",
              "      <td>NaN</td>\n",
              "    </tr>\n",
              "    <tr>\n",
              "      <th>freq</th>\n",
              "      <td>NaN</td>\n",
              "      <td>676</td>\n",
              "      <td>NaN</td>\n",
              "      <td>NaN</td>\n",
              "      <td>1064</td>\n",
              "      <td>364</td>\n",
              "      <td>NaN</td>\n",
              "    </tr>\n",
              "    <tr>\n",
              "      <th>mean</th>\n",
              "      <td>39.207025</td>\n",
              "      <td>NaN</td>\n",
              "      <td>30.663397</td>\n",
              "      <td>1.094918</td>\n",
              "      <td>NaN</td>\n",
              "      <td>NaN</td>\n",
              "      <td>13270.422265</td>\n",
              "    </tr>\n",
              "    <tr>\n",
              "      <th>std</th>\n",
              "      <td>14.049960</td>\n",
              "      <td>NaN</td>\n",
              "      <td>6.098187</td>\n",
              "      <td>1.205493</td>\n",
              "      <td>NaN</td>\n",
              "      <td>NaN</td>\n",
              "      <td>12110.011237</td>\n",
              "    </tr>\n",
              "    <tr>\n",
              "      <th>min</th>\n",
              "      <td>18.000000</td>\n",
              "      <td>NaN</td>\n",
              "      <td>15.960000</td>\n",
              "      <td>0.000000</td>\n",
              "      <td>NaN</td>\n",
              "      <td>NaN</td>\n",
              "      <td>1121.873900</td>\n",
              "    </tr>\n",
              "    <tr>\n",
              "      <th>25%</th>\n",
              "      <td>27.000000</td>\n",
              "      <td>NaN</td>\n",
              "      <td>26.296250</td>\n",
              "      <td>0.000000</td>\n",
              "      <td>NaN</td>\n",
              "      <td>NaN</td>\n",
              "      <td>4740.287150</td>\n",
              "    </tr>\n",
              "    <tr>\n",
              "      <th>50%</th>\n",
              "      <td>39.000000</td>\n",
              "      <td>NaN</td>\n",
              "      <td>30.400000</td>\n",
              "      <td>1.000000</td>\n",
              "      <td>NaN</td>\n",
              "      <td>NaN</td>\n",
              "      <td>9382.033000</td>\n",
              "    </tr>\n",
              "    <tr>\n",
              "      <th>75%</th>\n",
              "      <td>51.000000</td>\n",
              "      <td>NaN</td>\n",
              "      <td>34.693750</td>\n",
              "      <td>2.000000</td>\n",
              "      <td>NaN</td>\n",
              "      <td>NaN</td>\n",
              "      <td>16639.912515</td>\n",
              "    </tr>\n",
              "    <tr>\n",
              "      <th>max</th>\n",
              "      <td>64.000000</td>\n",
              "      <td>NaN</td>\n",
              "      <td>53.130000</td>\n",
              "      <td>5.000000</td>\n",
              "      <td>NaN</td>\n",
              "      <td>NaN</td>\n",
              "      <td>63770.428010</td>\n",
              "    </tr>\n",
              "  </tbody>\n",
              "</table>\n",
              "</div>\n",
              "      <button class=\"colab-df-convert\" onclick=\"convertToInteractive('df-20eb1b1a-ada4-41ec-9bb9-b07147586539')\"\n",
              "              title=\"Convert this dataframe to an interactive table.\"\n",
              "              style=\"display:none;\">\n",
              "        \n",
              "  <svg xmlns=\"http://www.w3.org/2000/svg\" height=\"24px\"viewBox=\"0 0 24 24\"\n",
              "       width=\"24px\">\n",
              "    <path d=\"M0 0h24v24H0V0z\" fill=\"none\"/>\n",
              "    <path d=\"M18.56 5.44l.94 2.06.94-2.06 2.06-.94-2.06-.94-.94-2.06-.94 2.06-2.06.94zm-11 1L8.5 8.5l.94-2.06 2.06-.94-2.06-.94L8.5 2.5l-.94 2.06-2.06.94zm10 10l.94 2.06.94-2.06 2.06-.94-2.06-.94-.94-2.06-.94 2.06-2.06.94z\"/><path d=\"M17.41 7.96l-1.37-1.37c-.4-.4-.92-.59-1.43-.59-.52 0-1.04.2-1.43.59L10.3 9.45l-7.72 7.72c-.78.78-.78 2.05 0 2.83L4 21.41c.39.39.9.59 1.41.59.51 0 1.02-.2 1.41-.59l7.78-7.78 2.81-2.81c.8-.78.8-2.07 0-2.86zM5.41 20L4 18.59l7.72-7.72 1.47 1.35L5.41 20z\"/>\n",
              "  </svg>\n",
              "      </button>\n",
              "      \n",
              "  <style>\n",
              "    .colab-df-container {\n",
              "      display:flex;\n",
              "      flex-wrap:wrap;\n",
              "      gap: 12px;\n",
              "    }\n",
              "\n",
              "    .colab-df-convert {\n",
              "      background-color: #E8F0FE;\n",
              "      border: none;\n",
              "      border-radius: 50%;\n",
              "      cursor: pointer;\n",
              "      display: none;\n",
              "      fill: #1967D2;\n",
              "      height: 32px;\n",
              "      padding: 0 0 0 0;\n",
              "      width: 32px;\n",
              "    }\n",
              "\n",
              "    .colab-df-convert:hover {\n",
              "      background-color: #E2EBFA;\n",
              "      box-shadow: 0px 1px 2px rgba(60, 64, 67, 0.3), 0px 1px 3px 1px rgba(60, 64, 67, 0.15);\n",
              "      fill: #174EA6;\n",
              "    }\n",
              "\n",
              "    [theme=dark] .colab-df-convert {\n",
              "      background-color: #3B4455;\n",
              "      fill: #D2E3FC;\n",
              "    }\n",
              "\n",
              "    [theme=dark] .colab-df-convert:hover {\n",
              "      background-color: #434B5C;\n",
              "      box-shadow: 0px 1px 3px 1px rgba(0, 0, 0, 0.15);\n",
              "      filter: drop-shadow(0px 1px 2px rgba(0, 0, 0, 0.3));\n",
              "      fill: #FFFFFF;\n",
              "    }\n",
              "  </style>\n",
              "\n",
              "      <script>\n",
              "        const buttonEl =\n",
              "          document.querySelector('#df-20eb1b1a-ada4-41ec-9bb9-b07147586539 button.colab-df-convert');\n",
              "        buttonEl.style.display =\n",
              "          google.colab.kernel.accessAllowed ? 'block' : 'none';\n",
              "\n",
              "        async function convertToInteractive(key) {\n",
              "          const element = document.querySelector('#df-20eb1b1a-ada4-41ec-9bb9-b07147586539');\n",
              "          const dataTable =\n",
              "            await google.colab.kernel.invokeFunction('convertToInteractive',\n",
              "                                                     [key], {});\n",
              "          if (!dataTable) return;\n",
              "\n",
              "          const docLinkHtml = 'Like what you see? Visit the ' +\n",
              "            '<a target=\"_blank\" href=https://colab.research.google.com/notebooks/data_table.ipynb>data table notebook</a>'\n",
              "            + ' to learn more about interactive tables.';\n",
              "          element.innerHTML = '';\n",
              "          dataTable['output_type'] = 'display_data';\n",
              "          await google.colab.output.renderOutput(dataTable, element);\n",
              "          const docLink = document.createElement('div');\n",
              "          docLink.innerHTML = docLinkHtml;\n",
              "          element.appendChild(docLink);\n",
              "        }\n",
              "      </script>\n",
              "    </div>\n",
              "  </div>\n",
              "  "
            ]
          },
          "metadata": {},
          "execution_count": 55
        }
      ]
    },
    {
      "cell_type": "markdown",
      "source": [
        "*  El conjunto de datos está compuesto por 1338 muestras, 6 variables independienes y una dependiente.  Al ser un proceso contínuo una regresión lineal es el mejor método de predicción de valores."
      ],
      "metadata": {
        "id": "BitKgZJqx447"
      }
    },
    {
      "cell_type": "code",
      "source": [
        "#Tamaño de la matriz número de filas y variables\n",
        "df_insurance.shape"
      ],
      "metadata": {
        "colab": {
          "base_uri": "https://localhost:8080/"
        },
        "id": "UBxnv4t_CJEK",
        "outputId": "a96cdaae-b07e-4566-82f3-2628428a535b"
      },
      "execution_count": 56,
      "outputs": [
        {
          "output_type": "execute_result",
          "data": {
            "text/plain": [
              "(1338, 7)"
            ]
          },
          "metadata": {},
          "execution_count": 56
        }
      ]
    },
    {
      "cell_type": "markdown",
      "source": [
        "* Todas las columnas tienen información, el grado de completitud de información es del **100%**"
      ],
      "metadata": {
        "id": "BExTF30syRJe"
      }
    },
    {
      "cell_type": "code",
      "source": [
        "#cuenta el número de muestras nulas para cada una de las columnas\n",
        "df_insurance.isnull().sum()"
      ],
      "metadata": {
        "colab": {
          "base_uri": "https://localhost:8080/"
        },
        "id": "rDXv8cW9CW_H",
        "outputId": "12ab32bf-6707-4eb6-b0c1-a4b7cf334501"
      },
      "execution_count": 57,
      "outputs": [
        {
          "output_type": "execute_result",
          "data": {
            "text/plain": [
              "age         0\n",
              "sex         0\n",
              "bmi         0\n",
              "children    0\n",
              "smoker      0\n",
              "region      0\n",
              "charges     0\n",
              "dtype: int64"
            ]
          },
          "metadata": {},
          "execution_count": 57
        }
      ]
    },
    {
      "cell_type": "markdown",
      "source": [
        "*  Listado de columnas"
      ],
      "metadata": {
        "id": "ZFWMpubFyiCz"
      }
    },
    {
      "cell_type": "code",
      "source": [
        "#validar Nombre de columnas\n",
        "df_insurance.columns"
      ],
      "metadata": {
        "colab": {
          "base_uri": "https://localhost:8080/"
        },
        "id": "RCVA3DDyD5zJ",
        "outputId": "16710568-094a-4e2d-b509-1ed00bcc06d8"
      },
      "execution_count": 58,
      "outputs": [
        {
          "output_type": "execute_result",
          "data": {
            "text/plain": [
              "Index(['age', 'sex', 'bmi', 'children', 'smoker', 'region', 'charges'], dtype='object')"
            ]
          },
          "metadata": {},
          "execution_count": 58
        }
      ]
    },
    {
      "cell_type": "markdown",
      "source": [
        "* Listado de columnas con sus tipos de datos"
      ],
      "metadata": {
        "id": "U3Nx5XkjylA4"
      }
    },
    {
      "cell_type": "code",
      "source": [
        "#validar tipos de datos de cada columna\n",
        "df_insurance.dtypes"
      ],
      "metadata": {
        "colab": {
          "base_uri": "https://localhost:8080/"
        },
        "id": "UHOikKW2D_KZ",
        "outputId": "3239604a-e6a4-46c5-94d6-642907dbd562"
      },
      "execution_count": 59,
      "outputs": [
        {
          "output_type": "execute_result",
          "data": {
            "text/plain": [
              "age           int64\n",
              "sex          object\n",
              "bmi         float64\n",
              "children      int64\n",
              "smoker       object\n",
              "region       object\n",
              "charges     float64\n",
              "dtype: object"
            ]
          },
          "metadata": {},
          "execution_count": 59
        }
      ]
    },
    {
      "cell_type": "markdown",
      "source": [
        "# Análisis gráfico de las variables\n",
        "* Importación de librerías gráficas"
      ],
      "metadata": {
        "id": "dDfmPck_yzZu"
      }
    },
    {
      "cell_type": "code",
      "source": [
        "import matplotlib.pyplot as plt\n",
        "import seaborn as sns\n"
      ],
      "metadata": {
        "id": "eOBFPps7zM51"
      },
      "execution_count": 60,
      "outputs": []
    },
    {
      "cell_type": "markdown",
      "source": [
        "* Visualización de variables:\n",
        "  * Al validar la edad vs el costo, podemos ver que existen algunos \"outliers\" es decir, personas que pagan mucho más pero que no necesariamente siguen una función homogénea.\n",
        "  * Esta gráfica también nos permite ver como el valor de los costos médicos aumenta con los años."
      ],
      "metadata": {
        "id": "LndRqYmjzu9l"
      }
    },
    {
      "cell_type": "code",
      "source": [
        "plt.plot(df_insurance.charges,df_insurance.age)"
      ],
      "metadata": {
        "colab": {
          "base_uri": "https://localhost:8080/",
          "height": 283
        },
        "id": "u1vHdRpizxhj",
        "outputId": "0ab1a5bc-7b00-4a87-c6ba-94150485cb99"
      },
      "execution_count": 61,
      "outputs": [
        {
          "output_type": "execute_result",
          "data": {
            "text/plain": [
              "[<matplotlib.lines.Line2D at 0x7f70827801c0>]"
            ]
          },
          "metadata": {},
          "execution_count": 61
        },
        {
          "output_type": "display_data",
          "data": {
            "text/plain": [
              "<Figure size 432x288 with 1 Axes>"
            ],
            "image/png": "[encoded data removed]"
          },
          "metadata": {
            "needs_background": "light"
          }
        }
      ]
    },
    {
      "cell_type": "markdown",
      "source": [
        "*  Distribución histograma de variables categoricas"
      ],
      "metadata": {
        "id": "kM7Sp0UpEPoi"
      }
    },
    {
      "cell_type": "code",
      "source": [
        "df_insurance.hist(figsize=(5,15))\n",
        "plt.show()"
      ],
      "metadata": {
        "colab": {
          "base_uri": "https://localhost:8080/",
          "height": 879
        },
        "id": "t8_bDHawEM_C",
        "outputId": "03cdf27b-940a-419f-bfe2-9b7f06d55242"
      },
      "execution_count": 62,
      "outputs": [
        {
          "output_type": "display_data",
          "data": {
            "text/plain": [
              "<Figure size 360x1080 with 4 Axes>"
            ],
            "image/png": "[encoded data removed]"
          },
          "metadata": {
            "needs_background": "light"
          }
        }
      ]
    },
    {
      "cell_type": "markdown",
      "source": [
        "* Distribución detalla de la prima de seguro  "
      ],
      "metadata": {
        "id": "V0CKdjgcHWpG"
      }
    },
    {
      "cell_type": "code",
      "source": [
        "#Visualización distribución variable charge\n",
        "f=plt.figure(figsize=(12,4))\n",
        "ax=f.add_subplot(121)\n",
        "sns.histplot(df_insurance['charges'],bins=50,color='b',ax=ax)\n",
        "ax.set_title(\"Distribución de cargos de seguros\")"
      ],
      "metadata": {
        "colab": {
          "base_uri": "https://localhost:8080/",
          "height": 313
        },
        "id": "uQgOUaEmGFjI",
        "outputId": "cf0d16fe-61ce-49d5-bb09-6091afc639d2"
      },
      "execution_count": 63,
      "outputs": [
        {
          "output_type": "execute_result",
          "data": {
            "text/plain": [
              "Text(0.5, 1.0, 'Distribución de cargos de seguros')"
            ]
          },
          "metadata": {},
          "execution_count": 63
        },
        {
          "output_type": "display_data",
          "data": {
            "text/plain": [
              "<Figure size 864x288 with 1 Axes>"
            ],
            "image/png": "[encoded data removed]"
          },
          "metadata": {
            "needs_background": "light"
          }
        }
      ]
    },
    {
      "cell_type": "markdown",
      "source": [
        "* distribución de la masa  por edad y bmi y la relación con su forma de fumar\n",
        "  * Como se aprecia en la gráfica de la izquierda se evidencian 3 grupos, el primero donde claramente los fumadores pagan más prima de seguro y con los años hay una ligera pendiente a aumentar la prima de seguro, un segundo grupo que incluye personas fumadoras y no fumadores que tienen, que tienen una cuota promedio y un último grupo donde se sitúan los que no fuman.  Donde la edad no es tan determinante.  Con lo cuál se deduce que el factor de ser fumador si es relevante al momento de calcular la prima de seguro.\n",
        "  * En la segunda gráfica se observa que el índice de masa corporal no necesariamente tiene un impacto alto en la prima de seguro."
      ],
      "metadata": {
        "id": "vTqRo2K3Hctm"
      }
    },
    {
      "cell_type": "code",
      "source": [
        "# uso de scatterplot\n",
        "f =  plt.figure(figsize=(14,6))\n",
        "ax = f.add_subplot(121)\n",
        "sns.scatterplot (x='age', y ='charges', data=df_insurance, palette='magma', hue='smoker',ax=ax)\n",
        "ax.set_title(\"Scatter plot - Charges vs age\")\n",
        "\n",
        "ax=f.add_subplot(122)\n",
        "sns.scatterplot(x='bmi',y='charges',data=df_insurance,palette='viridis',hue='smoker')\n",
        "ax.set_title(\"Scatter plot - Carger vs bmi\")\n"
      ],
      "metadata": {
        "colab": {
          "base_uri": "https://localhost:8080/",
          "height": 422
        },
        "id": "g2G4qI7aHhzO",
        "outputId": "daa4623d-47fe-425d-ae4e-a98328bf6eeb"
      },
      "execution_count": 64,
      "outputs": [
        {
          "output_type": "execute_result",
          "data": {
            "text/plain": [
              "Text(0.5, 1.0, 'Scatter plot - Carger vs bmi')"
            ]
          },
          "metadata": {},
          "execution_count": 64
        },
        {
          "output_type": "display_data",
          "data": {
            "text/plain": [
              "<Figure size 1008x432 with 2 Axes>"
            ],
            "image/png": "[encoded data removed]"
          },
          "metadata": {
            "needs_background": "light"
          }
        }
      ]
    },
    {
      "cell_type": "markdown",
      "source": [
        "* Análisis de correlación de variables:  Este análisis nos permite eliminar las variables que estén altamente correlacionadas con el valor a predecir. Esto se utiliza para descartar variables que tengan el mismo comportamiento a la variable a predecir y que podrían obligar al modelo a utilizar solo esta variable para el cálculo. Un ejemplo podría ser que el dataset tuviese una variable de si las personas tienen enfermedades degenerativas.  Lo cual está altamente correlacionado con el precio a pagar de la prima de seguro. Entre más cerca estén las variables a 1.  Serán más correlativas."
      ],
      "metadata": {
        "id": "nAPtUaoKKOwb"
      }
    },
    {
      "cell_type": "code",
      "source": [
        "#Análisis de correlación\n",
        "corr=df_insurance.corr()\n",
        "sns.heatmap(corr, annot= True);"
      ],
      "metadata": {
        "colab": {
          "base_uri": "https://localhost:8080/",
          "height": 269
        },
        "id": "0pzTrKsILTTC",
        "outputId": "2250b7ec-fa82-4d82-8d4c-f7bfb6d9efdb"
      },
      "execution_count": 65,
      "outputs": [
        {
          "output_type": "display_data",
          "data": {
            "text/plain": [
              "<Figure size 432x288 with 2 Axes>"
            ],
            "image/png": "[encoded data removed]"
          },
          "metadata": {
            "needs_background": "light"
          }
        }
      ]
    },
    {
      "cell_type": "markdown",
      "source": [
        "# Fase de Entrenamiento\n",
        "\n",
        "* Es bueno plantear diferentes hipótesis y ver cual de ellas nos da mejor resultados.\n",
        "\n",
        "## Preparar el dataset para dejar solo Variables numéricas\n",
        "* Crear un vectos con las variables categoricas\n",
        "* Crear un dataset con solo variables numéricas"
      ],
      "metadata": {
        "id": "w69KIRd8MHOU"
      }
    },
    {
      "cell_type": "code",
      "source": [
        "from pandas.core.arrays import categorical\n",
        "# Hipotesis 1\n",
        "categorical_columns=[\"sex\",\"children\",\"smoker\",\"region\"]\n",
        "insurance_data_hipo1 = df_insurance.drop(categorical_columns, axis = 1)"
      ],
      "metadata": {
        "id": "MZ5_yhgrMhqj"
      },
      "execution_count": 66,
      "outputs": []
    },
    {
      "cell_type": "code",
      "source": [
        "insurance_data_hipo1.head()"
      ],
      "metadata": {
        "colab": {
          "base_uri": "https://localhost:8080/",
          "height": 206
        },
        "id": "fpgbHY4mNDH9",
        "outputId": "f24fff75-eb4e-48cd-b20c-66025095486c"
      },
      "execution_count": 67,
      "outputs": [
        {
          "output_type": "execute_result",
          "data": {
            "text/plain": [
              "   age     bmi      charges\n",
              "0   19  27.900  16884.92400\n",
              "1   18  33.770   1725.55230\n",
              "2   28  33.000   4449.46200\n",
              "3   33  22.705  21984.47061\n",
              "4   32  28.880   3866.85520"
            ],
            "text/html": [
              "\n",
              "  <div id=\"df-e59fc494-f164-4f8c-ad22-1e4e40f7cef6\">\n",
              "    <div class=\"colab-df-container\">\n",
              "      <div>\n",
              "<style scoped>\n",
              "    .dataframe tbody tr th:only-of-type {\n",
              "        vertical-align: middle;\n",
              "    }\n",
              "\n",
              "    .dataframe tbody tr th {\n",
              "        vertical-align: top;\n",
              "    }\n",
              "\n",
              "    .dataframe thead th {\n",
              "        text-align: right;\n",
              "    }\n",
              "</style>\n",
              "<table border=\"1\" class=\"dataframe\">\n",
              "  <thead>\n",
              "    <tr style=\"text-align: right;\">\n",
              "      <th></th>\n",
              "      <th>age</th>\n",
              "      <th>bmi</th>\n",
              "      <th>charges</th>\n",
              "    </tr>\n",
              "  </thead>\n",
              "  <tbody>\n",
              "    <tr>\n",
              "      <th>0</th>\n",
              "      <td>19</td>\n",
              "      <td>27.900</td>\n",
              "      <td>16884.92400</td>\n",
              "    </tr>\n",
              "    <tr>\n",
              "      <th>1</th>\n",
              "      <td>18</td>\n",
              "      <td>33.770</td>\n",
              "      <td>1725.55230</td>\n",
              "    </tr>\n",
              "    <tr>\n",
              "      <th>2</th>\n",
              "      <td>28</td>\n",
              "      <td>33.000</td>\n",
              "      <td>4449.46200</td>\n",
              "    </tr>\n",
              "    <tr>\n",
              "      <th>3</th>\n",
              "      <td>33</td>\n",
              "      <td>22.705</td>\n",
              "      <td>21984.47061</td>\n",
              "    </tr>\n",
              "    <tr>\n",
              "      <th>4</th>\n",
              "      <td>32</td>\n",
              "      <td>28.880</td>\n",
              "      <td>3866.85520</td>\n",
              "    </tr>\n",
              "  </tbody>\n",
              "</table>\n",
              "</div>\n",
              "      <button class=\"colab-df-convert\" onclick=\"convertToInteractive('df-e59fc494-f164-4f8c-ad22-1e4e40f7cef6')\"\n",
              "              title=\"Convert this dataframe to an interactive table.\"\n",
              "              style=\"display:none;\">\n",
              "        \n",
              "  <svg xmlns=\"http://www.w3.org/2000/svg\" height=\"24px\"viewBox=\"0 0 24 24\"\n",
              "       width=\"24px\">\n",
              "    <path d=\"M0 0h24v24H0V0z\" fill=\"none\"/>\n",
              "    <path d=\"M18.56 5.44l.94 2.06.94-2.06 2.06-.94-2.06-.94-.94-2.06-.94 2.06-2.06.94zm-11 1L8.5 8.5l.94-2.06 2.06-.94-2.06-.94L8.5 2.5l-.94 2.06-2.06.94zm10 10l.94 2.06.94-2.06 2.06-.94-2.06-.94-.94-2.06-.94 2.06-2.06.94z\"/><path d=\"M17.41 7.96l-1.37-1.37c-.4-.4-.92-.59-1.43-.59-.52 0-1.04.2-1.43.59L10.3 9.45l-7.72 7.72c-.78.78-.78 2.05 0 2.83L4 21.41c.39.39.9.59 1.41.59.51 0 1.02-.2 1.41-.59l7.78-7.78 2.81-2.81c.8-.78.8-2.07 0-2.86zM5.41 20L4 18.59l7.72-7.72 1.47 1.35L5.41 20z\"/>\n",
              "  </svg>\n",
              "      </button>\n",
              "      \n",
              "  <style>\n",
              "    .colab-df-container {\n",
              "      display:flex;\n",
              "      flex-wrap:wrap;\n",
              "      gap: 12px;\n",
              "    }\n",
              "\n",
              "    .colab-df-convert {\n",
              "      background-color: #E8F0FE;\n",
              "      border: none;\n",
              "      border-radius: 50%;\n",
              "      cursor: pointer;\n",
              "      display: none;\n",
              "      fill: #1967D2;\n",
              "      height: 32px;\n",
              "      padding: 0 0 0 0;\n",
              "      width: 32px;\n",
              "    }\n",
              "\n",
              "    .colab-df-convert:hover {\n",
              "      background-color: #E2EBFA;\n",
              "      box-shadow: 0px 1px 2px rgba(60, 64, 67, 0.3), 0px 1px 3px 1px rgba(60, 64, 67, 0.15);\n",
              "      fill: #174EA6;\n",
              "    }\n",
              "\n",
              "    [theme=dark] .colab-df-convert {\n",
              "      background-color: #3B4455;\n",
              "      fill: #D2E3FC;\n",
              "    }\n",
              "\n",
              "    [theme=dark] .colab-df-convert:hover {\n",
              "      background-color: #434B5C;\n",
              "      box-shadow: 0px 1px 3px 1px rgba(0, 0, 0, 0.15);\n",
              "      filter: drop-shadow(0px 1px 2px rgba(0, 0, 0, 0.3));\n",
              "      fill: #FFFFFF;\n",
              "    }\n",
              "  </style>\n",
              "\n",
              "      <script>\n",
              "        const buttonEl =\n",
              "          document.querySelector('#df-e59fc494-f164-4f8c-ad22-1e4e40f7cef6 button.colab-df-convert');\n",
              "        buttonEl.style.display =\n",
              "          google.colab.kernel.accessAllowed ? 'block' : 'none';\n",
              "\n",
              "        async function convertToInteractive(key) {\n",
              "          const element = document.querySelector('#df-e59fc494-f164-4f8c-ad22-1e4e40f7cef6');\n",
              "          const dataTable =\n",
              "            await google.colab.kernel.invokeFunction('convertToInteractive',\n",
              "                                                     [key], {});\n",
              "          if (!dataTable) return;\n",
              "\n",
              "          const docLinkHtml = 'Like what you see? Visit the ' +\n",
              "            '<a target=\"_blank\" href=https://colab.research.google.com/notebooks/data_table.ipynb>data table notebook</a>'\n",
              "            + ' to learn more about interactive tables.';\n",
              "          element.innerHTML = '';\n",
              "          dataTable['output_type'] = 'display_data';\n",
              "          await google.colab.output.renderOutput(dataTable, element);\n",
              "          const docLink = document.createElement('div');\n",
              "          docLink.innerHTML = docLinkHtml;\n",
              "          element.appendChild(docLink);\n",
              "        }\n",
              "      </script>\n",
              "    </div>\n",
              "  </div>\n",
              "  "
            ]
          },
          "metadata": {},
          "execution_count": 67
        }
      ]
    },
    {
      "cell_type": "markdown",
      "source": [
        "* Ahora vamos a predecir el precio de la prima"
      ],
      "metadata": {
        "id": "f7v-EjtSNJnj"
      }
    },
    {
      "cell_type": "code",
      "source": [
        "x_hipt1 = insurance_data_hipo1.drop('charges',axis=1)\n",
        "y_hipt1 = insurance_data_hipo1['charges']"
      ],
      "metadata": {
        "id": "RvX6jMwGNNQD"
      },
      "execution_count": 68,
      "outputs": []
    },
    {
      "cell_type": "markdown",
      "source": [
        "* A continuación dividimos el dataset en dos grupos el 20% para entrenamiento y el 80% para pruebas del modelo"
      ],
      "metadata": {
        "id": "6tYW31rsNgv3"
      }
    },
    {
      "cell_type": "code",
      "source": [
        "from sklearn.model_selection import train_test_split\n",
        "x_hipt1_train, x_hipt1_test,y_hipt1_train, y_hipt1_test = train_test_split(x_hipt1,y_hipt1, test_size=0.20, random_state=42)"
      ],
      "metadata": {
        "id": "LoQJqj19Npjs"
      },
      "execution_count": 69,
      "outputs": []
    },
    {
      "cell_type": "markdown",
      "source": [
        "* Una vez tenemos nuestros conjuntos de datos, ahora podemos utilizar la librería de regresión lineal."
      ],
      "metadata": {
        "id": "KbX1UOk2OPJ7"
      }
    },
    {
      "cell_type": "code",
      "source": [
        "#Regresión Lineal\n",
        "from sklearn.linear_model import LinearRegression\n",
        "regresion_lineal=LinearRegression()\n",
        "regresion_lineal.fit(x_hipt1_train,y_hipt1_train)"
      ],
      "metadata": {
        "colab": {
          "base_uri": "https://localhost:8080/"
        },
        "id": "yuxjPzq1Ohh9",
        "outputId": "3d45fff1-ae03-4efb-a507-e6d21bdb5208"
      },
      "execution_count": 70,
      "outputs": [
        {
          "output_type": "execute_result",
          "data": {
            "text/plain": [
              "LinearRegression()"
            ]
          },
          "metadata": {},
          "execution_count": 70
        }
      ]
    },
    {
      "cell_type": "markdown",
      "source": [
        "* Ahora que el modelo está entrenado, vamos a la fase de validación"
      ],
      "metadata": {
        "id": "GKTEClieO3SD"
      }
    },
    {
      "cell_type": "markdown",
      "source": [
        "## **Fase de Validación**"
      ],
      "metadata": {
        "id": "FM6kCOm6O7hF"
      }
    },
    {
      "cell_type": "code",
      "source": [
        "from sklearn.metrics import mean_squared_error"
      ],
      "metadata": {
        "id": "ONPsPTgCPAjs"
      },
      "execution_count": 71,
      "outputs": []
    },
    {
      "cell_type": "code",
      "source": [
        "# predecimos los valores y para los datos usamos en el entrenamiento\n",
        "prediccion_entrenamiento = regresion_lineal.predict(x_hipt1_train)\n",
        "# calculamos el Error Cuadrático Medio (MSE)\n",
        "mse_hipt1_train = mean_squared_error(y_true= y_hipt1_train, y_pred= prediccion_entrenamiento)\n",
        "print ('Error cuadrático medio (MSE) =' + str(mse_hipt1_train))\n",
        "#predecimos los valores y para los datos usados en el entrenamiento\n",
        "prediccion_entrenamiento = regresion_lineal.predict(x_hipt1_test)\n",
        "\n",
        "#calculamos el error cuadrático medio\n",
        "mse_hipt1_test = mean_squared_error(y_true= y_hipt1_test, y_pred= prediccion_entrenamiento)\n",
        "print ('Error cuadrático medio (MSE) =' + str(mse_hipt1_test))"
      ],
      "metadata": {
        "colab": {
          "base_uri": "https://localhost:8080/"
        },
        "id": "bOfzRK0pPIX1",
        "outputId": "3ec7d45b-9464-4b7b-c8db-f20332cb3f62"
      },
      "execution_count": 72,
      "outputs": [
        {
          "output_type": "stream",
          "name": "stdout",
          "text": [
            "Error cuadrático medio (MSE) =128941462.98397976\n",
            "Error cuadrático medio (MSE) =131440262.76073726\n"
          ]
        }
      ]
    },
    {
      "cell_type": "markdown",
      "source": [
        "* Conclusiones:  Esta primera hipótesis no es correcta. El error debe ser cercano a cero (0)."
      ],
      "metadata": {
        "id": "77Bm3RGzQzOG"
      }
    },
    {
      "cell_type": "markdown",
      "source": [
        "## Hipótesis 2\n",
        "* Vamos utilizar one hotten coding para volver las variables categóricas a numéricas"
      ],
      "metadata": {
        "id": "cv8GuggKQ-He"
      }
    },
    {
      "cell_type": "code",
      "source": [
        "insurance_data_hipo2 = pd.get_dummies(data = df_insurance, prefix='OHE', prefix_sep='_',\n",
        "                                      columns = categorical_columns,\n",
        "                                      drop_first=True,\n",
        "                                      dtype='int8')"
      ],
      "metadata": {
        "id": "TDmsNpIIRGaK"
      },
      "execution_count": 73,
      "outputs": []
    },
    {
      "cell_type": "code",
      "source": [
        "insurance_data_hipo2"
      ],
      "metadata": {
        "colab": {
          "base_uri": "https://localhost:8080/",
          "height": 424
        },
        "id": "0tmpz3n_S3vx",
        "outputId": "d29fe131-bbc6-4b63-8fc3-d9b5764a2e9d"
      },
      "execution_count": 74,
      "outputs": [
        {
          "output_type": "execute_result",
          "data": {
            "text/plain": [
              "      age     bmi      charges  OHE_male  OHE_1  OHE_2  OHE_3  OHE_4  OHE_5  \\\n",
              "0      19  27.900  16884.92400         0      0      0      0      0      0   \n",
              "1      18  33.770   1725.55230         1      1      0      0      0      0   \n",
              "2      28  33.000   4449.46200         1      0      0      1      0      0   \n",
              "3      33  22.705  21984.47061         1      0      0      0      0      0   \n",
              "4      32  28.880   3866.85520         1      0      0      0      0      0   \n",
              "...   ...     ...          ...       ...    ...    ...    ...    ...    ...   \n",
              "1333   50  30.970  10600.54830         1      0      0      1      0      0   \n",
              "1334   18  31.920   2205.98080         0      0      0      0      0      0   \n",
              "1335   18  36.850   1629.83350         0      0      0      0      0      0   \n",
              "1336   21  25.800   2007.94500         0      0      0      0      0      0   \n",
              "1337   61  29.070  29141.36030         0      0      0      0      0      0   \n",
              "\n",
              "      OHE_yes  OHE_northwest  OHE_southeast  OHE_southwest  \n",
              "0           1              0              0              1  \n",
              "1           0              0              1              0  \n",
              "2           0              0              1              0  \n",
              "3           0              1              0              0  \n",
              "4           0              1              0              0  \n",
              "...       ...            ...            ...            ...  \n",
              "1333        0              1              0              0  \n",
              "1334        0              0              0              0  \n",
              "1335        0              0              1              0  \n",
              "1336        0              0              0              1  \n",
              "1337        1              1              0              0  \n",
              "\n",
              "[1338 rows x 13 columns]"
            ],
            "text/html": [
              "\n",
              "  <div id=\"df-8f80f0fc-fa40-4dce-bdaa-94319409b3af\">\n",
              "    <div class=\"colab-df-container\">\n",
              "      <div>\n",
              "<style scoped>\n",
              "    .dataframe tbody tr th:only-of-type {\n",
              "        vertical-align: middle;\n",
              "    }\n",
              "\n",
              "    .dataframe tbody tr th {\n",
              "        vertical-align: top;\n",
              "    }\n",
              "\n",
              "    .dataframe thead th {\n",
              "        text-align: right;\n",
              "    }\n",
              "</style>\n",
              "<table border=\"1\" class=\"dataframe\">\n",
              "  <thead>\n",
              "    <tr style=\"text-align: right;\">\n",
              "      <th></th>\n",
              "      <th>age</th>\n",
              "      <th>bmi</th>\n",
              "      <th>charges</th>\n",
              "      <th>OHE_male</th>\n",
              "      <th>OHE_1</th>\n",
              "      <th>OHE_2</th>\n",
              "      <th>OHE_3</th>\n",
              "      <th>OHE_4</th>\n",
              "      <th>OHE_5</th>\n",
              "      <th>OHE_yes</th>\n",
              "      <th>OHE_northwest</th>\n",
              "      <th>OHE_southeast</th>\n",
              "      <th>OHE_southwest</th>\n",
              "    </tr>\n",
              "  </thead>\n",
              "  <tbody>\n",
              "    <tr>\n",
              "      <th>0</th>\n",
              "      <td>19</td>\n",
              "      <td>27.900</td>\n",
              "      <td>16884.92400</td>\n",
              "      <td>0</td>\n",
              "      <td>0</td>\n",
              "      <td>0</td>\n",
              "      <td>0</td>\n",
              "      <td>0</td>\n",
              "      <td>0</td>\n",
              "      <td>1</td>\n",
              "      <td>0</td>\n",
              "      <td>0</td>\n",
              "      <td>1</td>\n",
              "    </tr>\n",
              "    <tr>\n",
              "      <th>1</th>\n",
              "      <td>18</td>\n",
              "      <td>33.770</td>\n",
              "      <td>1725.55230</td>\n",
              "      <td>1</td>\n",
              "      <td>1</td>\n",
              "      <td>0</td>\n",
              "      <td>0</td>\n",
              "      <td>0</td>\n",
              "      <td>0</td>\n",
              "      <td>0</td>\n",
              "      <td>0</td>\n",
              "      <td>1</td>\n",
              "      <td>0</td>\n",
              "    </tr>\n",
              "    <tr>\n",
              "      <th>2</th>\n",
              "      <td>28</td>\n",
              "      <td>33.000</td>\n",
              "      <td>4449.46200</td>\n",
              "      <td>1</td>\n",
              "      <td>0</td>\n",
              "      <td>0</td>\n",
              "      <td>1</td>\n",
              "      <td>0</td>\n",
              "      <td>0</td>\n",
              "      <td>0</td>\n",
              "      <td>0</td>\n",
              "      <td>1</td>\n",
              "      <td>0</td>\n",
              "    </tr>\n",
              "    <tr>\n",
              "      <th>3</th>\n",
              "      <td>33</td>\n",
              "      <td>22.705</td>\n",
              "      <td>21984.47061</td>\n",
              "      <td>1</td>\n",
              "      <td>0</td>\n",
              "      <td>0</td>\n",
              "      <td>0</td>\n",
              "      <td>0</td>\n",
              "      <td>0</td>\n",
              "      <td>0</td>\n",
              "      <td>1</td>\n",
              "      <td>0</td>\n",
              "      <td>0</td>\n",
              "    </tr>\n",
              "    <tr>\n",
              "      <th>4</th>\n",
              "      <td>32</td>\n",
              "      <td>28.880</td>\n",
              "      <td>3866.85520</td>\n",
              "      <td>1</td>\n",
              "      <td>0</td>\n",
              "      <td>0</td>\n",
              "      <td>0</td>\n",
              "      <td>0</td>\n",
              "      <td>0</td>\n",
              "      <td>0</td>\n",
              "      <td>1</td>\n",
              "      <td>0</td>\n",
              "      <td>0</td>\n",
              "    </tr>\n",
              "    <tr>\n",
              "      <th>...</th>\n",
              "      <td>...</td>\n",
              "      <td>...</td>\n",
              "      <td>...</td>\n",
              "      <td>...</td>\n",
              "      <td>...</td>\n",
              "      <td>...</td>\n",
              "      <td>...</td>\n",
              "      <td>...</td>\n",
              "      <td>...</td>\n",
              "      <td>...</td>\n",
              "      <td>...</td>\n",
              "      <td>...</td>\n",
              "      <td>...</td>\n",
              "    </tr>\n",
              "    <tr>\n",
              "      <th>1333</th>\n",
              "      <td>50</td>\n",
              "      <td>30.970</td>\n",
              "      <td>10600.54830</td>\n",
              "      <td>1</td>\n",
              "      <td>0</td>\n",
              "      <td>0</td>\n",
              "      <td>1</td>\n",
              "      <td>0</td>\n",
              "      <td>0</td>\n",
              "      <td>0</td>\n",
              "      <td>1</td>\n",
              "      <td>0</td>\n",
              "      <td>0</td>\n",
              "    </tr>\n",
              "    <tr>\n",
              "      <th>1334</th>\n",
              "      <td>18</td>\n",
              "      <td>31.920</td>\n",
              "      <td>2205.98080</td>\n",
              "      <td>0</td>\n",
              "      <td>0</td>\n",
              "      <td>0</td>\n",
              "      <td>0</td>\n",
              "      <td>0</td>\n",
              "      <td>0</td>\n",
              "      <td>0</td>\n",
              "      <td>0</td>\n",
              "      <td>0</td>\n",
              "      <td>0</td>\n",
              "    </tr>\n",
              "    <tr>\n",
              "      <th>1335</th>\n",
              "      <td>18</td>\n",
              "      <td>36.850</td>\n",
              "      <td>1629.83350</td>\n",
              "      <td>0</td>\n",
              "      <td>0</td>\n",
              "      <td>0</td>\n",
              "      <td>0</td>\n",
              "      <td>0</td>\n",
              "      <td>0</td>\n",
              "      <td>0</td>\n",
              "      <td>0</td>\n",
              "      <td>1</td>\n",
              "      <td>0</td>\n",
              "    </tr>\n",
              "    <tr>\n",
              "      <th>1336</th>\n",
              "      <td>21</td>\n",
              "      <td>25.800</td>\n",
              "      <td>2007.94500</td>\n",
              "      <td>0</td>\n",
              "      <td>0</td>\n",
              "      <td>0</td>\n",
              "      <td>0</td>\n",
              "      <td>0</td>\n",
              "      <td>0</td>\n",
              "      <td>0</td>\n",
              "      <td>0</td>\n",
              "      <td>0</td>\n",
              "      <td>1</td>\n",
              "    </tr>\n",
              "    <tr>\n",
              "      <th>1337</th>\n",
              "      <td>61</td>\n",
              "      <td>29.070</td>\n",
              "      <td>29141.36030</td>\n",
              "      <td>0</td>\n",
              "      <td>0</td>\n",
              "      <td>0</td>\n",
              "      <td>0</td>\n",
              "      <td>0</td>\n",
              "      <td>0</td>\n",
              "      <td>1</td>\n",
              "      <td>1</td>\n",
              "      <td>0</td>\n",
              "      <td>0</td>\n",
              "    </tr>\n",
              "  </tbody>\n",
              "</table>\n",
              "<p>1338 rows × 13 columns</p>\n",
              "</div>\n",
              "      <button class=\"colab-df-convert\" onclick=\"convertToInteractive('df-8f80f0fc-fa40-4dce-bdaa-94319409b3af')\"\n",
              "              title=\"Convert this dataframe to an interactive table.\"\n",
              "              style=\"display:none;\">\n",
              "        \n",
              "  <svg xmlns=\"http://www.w3.org/2000/svg\" height=\"24px\"viewBox=\"0 0 24 24\"\n",
              "       width=\"24px\">\n",
              "    <path d=\"M0 0h24v24H0V0z\" fill=\"none\"/>\n",
              "    <path d=\"M18.56 5.44l.94 2.06.94-2.06 2.06-.94-2.06-.94-.94-2.06-.94 2.06-2.06.94zm-11 1L8.5 8.5l.94-2.06 2.06-.94-2.06-.94L8.5 2.5l-.94 2.06-2.06.94zm10 10l.94 2.06.94-2.06 2.06-.94-2.06-.94-.94-2.06-.94 2.06-2.06.94z\"/><path d=\"M17.41 7.96l-1.37-1.37c-.4-.4-.92-.59-1.43-.59-.52 0-1.04.2-1.43.59L10.3 9.45l-7.72 7.72c-.78.78-.78 2.05 0 2.83L4 21.41c.39.39.9.59 1.41.59.51 0 1.02-.2 1.41-.59l7.78-7.78 2.81-2.81c.8-.78.8-2.07 0-2.86zM5.41 20L4 18.59l7.72-7.72 1.47 1.35L5.41 20z\"/>\n",
              "  </svg>\n",
              "      </button>\n",
              "      \n",
              "  <style>\n",
              "    .colab-df-container {\n",
              "      display:flex;\n",
              "      flex-wrap:wrap;\n",
              "      gap: 12px;\n",
              "    }\n",
              "\n",
              "    .colab-df-convert {\n",
              "      background-color: #E8F0FE;\n",
              "      border: none;\n",
              "      border-radius: 50%;\n",
              "      cursor: pointer;\n",
              "      display: none;\n",
              "      fill: #1967D2;\n",
              "      height: 32px;\n",
              "      padding: 0 0 0 0;\n",
              "      width: 32px;\n",
              "    }\n",
              "\n",
              "    .colab-df-convert:hover {\n",
              "      background-color: #E2EBFA;\n",
              "      box-shadow: 0px 1px 2px rgba(60, 64, 67, 0.3), 0px 1px 3px 1px rgba(60, 64, 67, 0.15);\n",
              "      fill: #174EA6;\n",
              "    }\n",
              "\n",
              "    [theme=dark] .colab-df-convert {\n",
              "      background-color: #3B4455;\n",
              "      fill: #D2E3FC;\n",
              "    }\n",
              "\n",
              "    [theme=dark] .colab-df-convert:hover {\n",
              "      background-color: #434B5C;\n",
              "      box-shadow: 0px 1px 3px 1px rgba(0, 0, 0, 0.15);\n",
              "      filter: drop-shadow(0px 1px 2px rgba(0, 0, 0, 0.3));\n",
              "      fill: #FFFFFF;\n",
              "    }\n",
              "  </style>\n",
              "\n",
              "      <script>\n",
              "        const buttonEl =\n",
              "          document.querySelector('#df-8f80f0fc-fa40-4dce-bdaa-94319409b3af button.colab-df-convert');\n",
              "        buttonEl.style.display =\n",
              "          google.colab.kernel.accessAllowed ? 'block' : 'none';\n",
              "\n",
              "        async function convertToInteractive(key) {\n",
              "          const element = document.querySelector('#df-8f80f0fc-fa40-4dce-bdaa-94319409b3af');\n",
              "          const dataTable =\n",
              "            await google.colab.kernel.invokeFunction('convertToInteractive',\n",
              "                                                     [key], {});\n",
              "          if (!dataTable) return;\n",
              "\n",
              "          const docLinkHtml = 'Like what you see? Visit the ' +\n",
              "            '<a target=\"_blank\" href=https://colab.research.google.com/notebooks/data_table.ipynb>data table notebook</a>'\n",
              "            + ' to learn more about interactive tables.';\n",
              "          element.innerHTML = '';\n",
              "          dataTable['output_type'] = 'display_data';\n",
              "          await google.colab.output.renderOutput(dataTable, element);\n",
              "          const docLink = document.createElement('div');\n",
              "          docLink.innerHTML = docLinkHtml;\n",
              "          element.appendChild(docLink);\n",
              "        }\n",
              "      </script>\n",
              "    </div>\n",
              "  </div>\n",
              "  "
            ]
          },
          "metadata": {},
          "execution_count": 74
        }
      ]
    },
    {
      "cell_type": "markdown",
      "source": [
        "* Ahora que hemos creado las variables dummies, es tiempo de haer un nuevo conjunto de datos de prueba y entrenamiento."
      ],
      "metadata": {
        "id": "2pWGDKTWTpLn"
      }
    },
    {
      "cell_type": "code",
      "source": [
        "x_hipt2= insurance_data_hipo2.drop('charges',axis=1)\n",
        "y_hipt2= insurance_data_hipo2['charges']\n",
        "from sklearn.model_selection import train_test_split\n",
        "x_hipt2_train, x_hipt2_test,y_hipt2_train,y_hipt2_test = train_test_split(x_hipt2, y_hipt2, test_size=0.20, random_state=43)"
      ],
      "metadata": {
        "id": "Vw1IRC3STwfy"
      },
      "execution_count": 75,
      "outputs": []
    },
    {
      "cell_type": "markdown",
      "source": [
        "## Fase Validación Hipótesis 2\n",
        "*  Hacer un entrenamiento sobre el train y uno sobre el test\n",
        "*  Validamos el MSE en ambos modelos"
      ],
      "metadata": {
        "id": "ZYSuw-okUvop"
      }
    },
    {
      "cell_type": "code",
      "source": [
        "#Regresion lineal\n",
        "from sklearn.linear_model import LinearRegression\n",
        "regresion_lineal=LinearRegression()\n",
        "regresion_lineal.fit(x_hipt2_train,y_hipt2_train)"
      ],
      "metadata": {
        "colab": {
          "base_uri": "https://localhost:8080/"
        },
        "id": "cyA_DKDEjtvZ",
        "outputId": "63a22593-3160-4a9d-e0cf-d1d4d1bbefd9"
      },
      "execution_count": 76,
      "outputs": [
        {
          "output_type": "execute_result",
          "data": {
            "text/plain": [
              "LinearRegression()"
            ]
          },
          "metadata": {},
          "execution_count": 76
        }
      ]
    },
    {
      "cell_type": "code",
      "source": [
        "\n",
        "# predecimos los valores y para los datos usamos en el entrenamiento\n",
        "prediccion_entrenamiento2 = regresion_lineal.predict(x_hipt2_train)\n",
        "# calculamos el Error Cuadrático Medio (MSE)\n",
        "mse_hipt2_train = mean_squared_error(y_true= y_hipt2_train, y_pred= prediccion_entrenamiento2)\n",
        "print ('Entrenamiento - Error cuadrático medio (MSE) Hipo1 =' + str(mse_hipt1_train))\n",
        "print ('Entrenamiento - Error cuadrático medio (MSE) Hipo2 =' + str(mse_hipt2_train))\n",
        "\n",
        "#predecimos los valores y para los datos usados en el entrenamiento\n",
        "prediccion_entrenamiento2 = regresion_lineal.predict(x_hipt2_test)\n",
        "\n",
        "#calculamos el error cuadrático medio\n",
        "mse_hipt2_test = mean_squared_error(y_true= y_hipt2_test, y_pred= prediccion_entrenamiento2)\n",
        "print ('Test - Error cuadrático medio (MSE) Hipo1 =' + str(mse_hipt1_test))\n",
        "print ('Test - Error cuadrático medio (MSE) Hipo2 =' + str(mse_hipt2_test))"
      ],
      "metadata": {
        "colab": {
          "base_uri": "https://localhost:8080/"
        },
        "id": "Qlm8hZq-h0i7",
        "outputId": "f6f3a6a7-ecfe-48fe-946c-d0bc3092539c"
      },
      "execution_count": 77,
      "outputs": [
        {
          "output_type": "stream",
          "name": "stdout",
          "text": [
            "Entrenamiento - Error cuadrático medio (MSE) Hipo1 =128941462.98397976\n",
            "Entrenamiento - Error cuadrático medio (MSE) Hipo2 =34753333.941468336\n",
            "Test - Error cuadrático medio (MSE) Hipo1 =131440262.76073726\n",
            "Test - Error cuadrático medio (MSE) Hipo2 =43379952.19655211\n"
          ]
        }
      ]
    },
    {
      "cell_type": "markdown",
      "source": [
        "## Hipótesis 3\n",
        "\n",
        "* Ahora Normalizaremos las variables objetivo"
      ],
      "metadata": {
        "id": "Fz-QOuMm1RTW"
      }
    },
    {
      "cell_type": "code",
      "source": [
        "insurance_data_hipo3 = pd.get_dummies(data = df_insurance, prefix = 'OHE', prefix_sep='_',\n",
        "                                      columns = categorical_columns,\n",
        "                                      drop_first = True,\n",
        "                                      dtype = 'int8')"
      ],
      "metadata": {
        "id": "11Y0foQ31Xug"
      },
      "execution_count": 78,
      "outputs": []
    },
    {
      "cell_type": "code",
      "source": [
        "x_hipt3 = insurance_data_hipo3.drop('charges', axis=1)\n",
        "y_hipt3 = insurance_data_hipo3['charges']"
      ],
      "metadata": {
        "id": "QZDQJUf61vc-"
      },
      "execution_count": 84,
      "outputs": []
    },
    {
      "cell_type": "code",
      "source": [
        "#Escalamos la variable charges para hacerla más estándar\n",
        "from sklearn.preprocessing import StandardScaler\n",
        "scaler= StandardScaler()\n",
        "\n",
        "y_hipo3=scaler.fit_transform(y_hipt3.to_numpy().reshape(-1,1))\n",
        "y_hipo3=y_hipo3.reshape(1,-1)[0]"
      ],
      "metadata": {
        "id": "m1fE8V1g16fW"
      },
      "execution_count": 85,
      "outputs": []
    },
    {
      "cell_type": "code",
      "source": [
        "x_hipt3_train,x_hipt3_test,y_hipt3_train,y_hipt3_test = train_test_split(x_hipt3, y_hipo3, test_size=0.20, random_state=43)"
      ],
      "metadata": {
        "id": "0uUNnzjr2k8-"
      },
      "execution_count": 87,
      "outputs": []
    },
    {
      "cell_type": "code",
      "source": [
        "from sklearn.linear_model import LinearRegression\n",
        "regresion_lineal = LinearRegression()\n",
        "regresion_lineal.fit(x_hipt3_train,y_hipt3_train)"
      ],
      "metadata": {
        "colab": {
          "base_uri": "https://localhost:8080/"
        },
        "id": "pVfyap4E3BH0",
        "outputId": "81551381-7770-4295-d06c-b35b1586eb66"
      },
      "execution_count": 88,
      "outputs": [
        {
          "output_type": "execute_result",
          "data": {
            "text/plain": [
              "LinearRegression()"
            ]
          },
          "metadata": {},
          "execution_count": 88
        }
      ]
    },
    {
      "cell_type": "code",
      "source": [
        "# predecimos los valores y para los datos usamos en el entrenamiento\n",
        "prediccion_entrenamiento3 = regresion_lineal.predict(x_hipt3_train)\n",
        "# calculamos el Error Cuadrático Medio (MSE)\n",
        "mse_hipt3_train = mean_squared_error(y_true= y_hipt3_train, y_pred= prediccion_entrenamiento3)\n",
        "print ('Entrenamiento - Error cuadrático medio (MSE) Hipo1 =' + str(mse_hipt1_train))\n",
        "print ('Entrenamiento - Error cuadrático medio (MSE) Hipo2 =' + str(mse_hipt2_train))\n",
        "print ('Entrenamiento - Error cuadrático medio (MSE) Hipo3 =' + str(mse_hipt3_train))\n",
        "#predecimos los valores y para los datos usados en el entrenamiento\n",
        "prediccion_entrenamiento3 = regresion_lineal.predict(x_hipt3_test)\n",
        "\n",
        "#calculamos el error cuadrático medio\n",
        "mse_hipt3_test = mean_squared_error(y_true= y_hipt3_test, y_pred= prediccion_entrenamiento3)\n",
        "print ('Test - Error cuadrático medio (MSE) Hipo1 =' + str(mse_hipt1_test))\n",
        "print ('Test - Error cuadrático medio (MSE) Hipo2 =' + str(mse_hipt2_test))\n",
        "print ('Test - Error cuadrático medio (MSE) Hipo3 =' + str(mse_hipt3_test))"
      ],
      "metadata": {
        "colab": {
          "base_uri": "https://localhost:8080/"
        },
        "id": "z63zUsLS3m_d",
        "outputId": "56266c6b-80b5-49ed-ff6a-8bf78aa71f48"
      },
      "execution_count": 89,
      "outputs": [
        {
          "output_type": "stream",
          "name": "stdout",
          "text": [
            "Entrenamiento - Error cuadrático medio (MSE) Hipo1 =128941462.98397976\n",
            "Entrenamiento - Error cuadrático medio (MSE) Hipo2 =34753333.941468336\n",
            "Entrenamiento - Error cuadrático medio (MSE) Hipo3 =0.23715489186563485\n",
            "Test - Error cuadrático medio (MSE) Hipo1 =131440262.76073726\n",
            "Test - Error cuadrático medio (MSE) Hipo2 =43379952.19655211\n",
            "Test - Error cuadrático medio (MSE) Hipo3 =0.29602247340172916\n"
          ]
        }
      ]
    }
  ]
}